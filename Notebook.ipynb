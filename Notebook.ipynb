{
 "cells": [
  {
   "cell_type": "markdown",
   "metadata": {},
   "source": [
    "# Caesar Cipher\n",
    "\n",
    "Mit (Gross-)Buchstaben aus Alphabet"
   ]
  },
  {
   "cell_type": "code",
   "execution_count": 2,
   "metadata": {},
   "outputs": [
    {
     "name": "stdout",
     "output_type": "stream",
     "text": [
      "JXWHQDWDJ\n"
     ]
    }
   ],
   "source": [
    "message = \"GUTEN TAG\"\n",
    "LETTERS = 'ABCDEFGHIJKLMNOPQRSTUVWXYZ '  \n",
    "key = 3\n",
    "\n",
    "\n",
    "def encrypt(message, key):\n",
    "    encMsg = \"\"\n",
    "    for s in message:  \n",
    "        if s in LETTERS:  \n",
    "            n = LETTERS.find(s)  \n",
    "            n = n + key\n",
    "            if n > 26:  \n",
    "                n = n - 27\n",
    "            encMsg = encMsg + LETTERS[n]\n",
    "    return encMsg\n",
    "\n",
    "encryptedMessage = encrypt(message = message, key = key)\n",
    "print(encryptedMessage)"
   ]
  },
  {
   "cell_type": "markdown",
   "metadata": {},
   "source": [
    "Encryption mithilfe von Zahlen im Hexadezimalen System (FIXME)"
   ]
  },
  {
   "cell_type": "code",
   "execution_count": 5,
   "metadata": {},
   "outputs": [
    {
     "name": "stdout",
     "output_type": "stream",
     "text": [
      "6F 2\n",
      "81 2\n"
     ]
    }
   ],
   "source": [
    "import base64\n",
    "message = \"o\"\n",
    "number = base64.b16encode(message.encode()).decode()\n",
    "print(number, len(number))\n",
    "ziffern = [\"0\", \"1\", \"2\", \"3\", \"4\", \"5\", \"6\", \"7\", \"8\", \"9\", \"A\", \"B\", \"C\", \"D\", \"E\", \"F\"] \n",
    "key = 2\n",
    "\n",
    "\n",
    "def encrypt(number, key):\n",
    "    encNb = \"\"\n",
    "    for s in number:  \n",
    "        if s in ziffern:  \n",
    "            n = ziffern.index(s)  \n",
    "            n = n + key\n",
    "            if n > 15:  \n",
    "                n = n - 16\n",
    "            encNb = encNb + ziffern[n]\n",
    "    return encNb\n",
    "\n",
    "encryptedNumber = encrypt(number = number, key = key)\n",
    "print(encryptedNumber, len(encryptedNumber))"
   ]
  },
  {
   "cell_type": "markdown",
   "metadata": {},
   "source": [
    "Decoder:"
   ]
  },
  {
   "cell_type": "code",
   "execution_count": 6,
   "metadata": {},
   "outputs": [
    {
     "name": "stdout",
     "output_type": "stream",
     "text": [
      "6F 2\n",
      "o\n"
     ]
    }
   ],
   "source": [
    "def encrypt(enc, key):\n",
    "    decrNb = \"\"\n",
    "    for s in enc:\n",
    "        if s in ziffern:  \n",
    "            n = ziffern.index(s) \n",
    "            n = n - key\n",
    "            decrNb = decrNb + ziffern[n]\n",
    "    return decrNb\n",
    "\n",
    "decryptedNumber = encrypt(enc = encryptedNumber, key = key)\n",
    "print(decryptedNumber, len(decryptedNumber))\n",
    "zText = base64.b16decode(decryptedNumber)\n",
    "message = str(zText, encoding=\"utf-8\")\n",
    "print(message)"
   ]
  },
  {
   "cell_type": "markdown",
   "metadata": {},
   "source": [
    "# Caesar Textanalyse"
   ]
  },
  {
   "cell_type": "code",
   "execution_count": 4,
   "metadata": {},
   "outputs": [
    {
     "name": "stdout",
     "output_type": "stream",
     "text": [
      "[('l', 2), ('H', 1), ('a', 1), ('o', 1)]\n"
     ]
    }
   ],
   "source": [
    "from collections import Counter\n",
    "text = \"\"\"Hallo\"\"\"\n",
    "t = Counter(text)\n",
    "\n",
    "print(t.most_common(5))"
   ]
  },
  {
   "cell_type": "markdown",
   "metadata": {},
   "source": [
    "# Vigenère-Chiffre"
   ]
  },
  {
   "cell_type": "code",
   "execution_count": 67,
   "metadata": {},
   "outputs": [
    {
     "name": "stdout",
     "output_type": "stream",
     "text": [
      "CCEPXOFMK\n"
     ]
    }
   ],
   "source": [
    "message = \"GUTEN TAG\"\n",
    "LETTERS = 'ABCDEFGHIJKLMNOPQRSTUVWXYZ '  \n",
    "keyWord = \"WILLKOMMEN\"\n",
    "\n",
    "\n",
    "def encrypt(message, keyWord):\n",
    "    encMsg = \"\"\n",
    "    key = []\n",
    "    counter = 0\n",
    "    for s in keyWord:  \n",
    "        if s in LETTERS:  \n",
    "            key.append(LETTERS.find(s))\n",
    "    for i in message:\n",
    "        if counter == len(key):\n",
    "            counter = 0\n",
    "        n = LETTERS.find(i)\n",
    "        n = n + key[counter]\n",
    "        counter += 1\n",
    "        if n > 26:  \n",
    "            n = n - 27\n",
    "        encMsg = encMsg + LETTERS[n]\n",
    "    return encMsg\n",
    "\n",
    "encryptedMessage = encrypt(message = message, keyWord = keyWord)\n",
    "print(encryptedMessage)"
   ]
  }
 ],
 "metadata": {
  "interpreter": {
   "hash": "b666e01949c37a777d70ae47aa3e28ec38dfbb32e409c38bfa3243b849c3376c"
  },
  "kernelspec": {
   "display_name": "Python 3.10.0 64-bit",
   "language": "python",
   "name": "python3"
  },
  "language_info": {
   "codemirror_mode": {
    "name": "ipython",
    "version": 3
   },
   "file_extension": ".py",
   "mimetype": "text/x-python",
   "name": "python",
   "nbconvert_exporter": "python",
   "pygments_lexer": "ipython3",
   "version": "3.10.0"
  },
  "orig_nbformat": 4
 },
 "nbformat": 4,
 "nbformat_minor": 2
}
