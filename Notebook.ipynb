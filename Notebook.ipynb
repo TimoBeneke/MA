{
 "cells": [
  {
   "cell_type": "markdown",
   "metadata": {},
   "source": [
    "# Caesar Cipher\n",
    "\n",
    "Mit (Gross-)Buchstaben aus Alphabet"
   ]
  },
  {
   "cell_type": "code",
   "execution_count": 2,
   "metadata": {},
   "outputs": [
    {
     "name": "stdout",
     "output_type": "stream",
     "text": [
      "JXWHQCWDJ\n"
     ]
    }
   ],
   "source": [
    "message = \"GUTEN TAG\"\n",
    "LETTERS = 'ABCDEFGHIJKLMNOPQRSTUVWXYZ '  \n",
    "key = 3\n",
    "\n",
    "\n",
    "def caesarEncrypt(message, key):\n",
    "    encMsg = \"\"\n",
    "    for s in message:  \n",
    "        if s in LETTERS:  \n",
    "            n = LETTERS.find(s)  \n",
    "            n = n + key\n",
    "            if n > 26:  \n",
    "                n = n - 27\n",
    "            encMsg = encMsg + LETTERS[n]\n",
    "    return encMsg\n",
    "\n",
    "encryptedMessage = caesarEncrypt(message = message, key = key)\n",
    "print(encryptedMessage)"
   ]
  },
  {
   "cell_type": "markdown",
   "metadata": {},
   "source": [
    "Decoder:"
   ]
  },
  {
   "cell_type": "code",
   "execution_count": 25,
   "metadata": {},
   "outputs": [
    {
     "name": "stdout",
     "output_type": "stream",
     "text": [
      "M ZKTFZGM\n"
     ]
    }
   ],
   "source": [
    "def caesarDecrypt(message, key):\n",
    "    dcMsg = \"\"\n",
    "    for s in message:  \n",
    "        if s in LETTERS:  \n",
    "            n = LETTERS.find(s)  \n",
    "            n = n - key\n",
    "            dcMsg = dcMsg + LETTERS[n]\n",
    "    return dcMsg\n",
    "\n",
    "decryptedMessage = caesarEncrypt(message = encryptedMessage, key = key)\n",
    "print(decryptedMessage)"
   ]
  },
  {
   "cell_type": "markdown",
   "metadata": {},
   "source": [
    "# Decoding von Caesar mit Ciphertext only"
   ]
  },
  {
   "cell_type": "markdown",
   "metadata": {},
   "source": [
    "Häufigkeitsanalyse"
   ]
  },
  {
   "cell_type": "code",
   "execution_count": 33,
   "metadata": {},
   "outputs": [
    {
     "name": "stdout",
     "output_type": "stream",
     "text": [
      "[('l', 2)]\n"
     ]
    }
   ],
   "source": [
    "from collections import Counter\n",
    "text = \"\"\"Hallo\"\"\"\n",
    "t = Counter(text)\n",
    "\n",
    "print(t.most_common(1))"
   ]
  },
  {
   "cell_type": "code",
   "execution_count": 59,
   "metadata": {},
   "outputs": [
    {
     "name": "stdout",
     "output_type": "stream",
     "text": [
      "AN DER STELLE DER HEUTIGEN KIRCHE BEFAND SICH VERMUTLICH BEREITS IN DER ANTIKE EIN KULTHUEGEL UND ES GIBT DIE LEGENDE VON EINEM DORTIGEN HEIDENTEMPEL SPAETER SOLLEN PESTOPFER AUF DIESEM HUEGEL BEGRABEN WORDEN SEIN ES GIBT ZWAR AUSSAGEN VON ANWOHNERN DIE UEBER FUNDE VON KNOCHEN BERICHTEN ABER ES KONNTEN BISHER KEINE ARCHAEOLOGISCHEN BELEGE FUER EINEN TEMPEL ODER EIN PESTGRAB ERBRACHT WERDEN DIE BEWOHNER DER GEGEND VON KLEINSOEDING WURDEN SPAETESTENS AB DEM  JAHRHUNDERT VON DER  ERSTMALS URKUNDLICH ERWAEHNTEN PFARRE MOOSKIRCHEN AUS SEELSORGERISCH VERSORGT ALS AB  DIE PEST DEN HEUTIGEN BEZIRK VOITSBERG BEFIEL WURDEN DIE DOERFER HARDEKK UND MUKKAW BEI MUGGAUBERG SOWIE DAS BEI SOEDINGBERG GELEGENE REUNER DORF SEDINGE VOLLSTAENDIG ENTVOELKERT ALS UM  DIE KRANKHEIT ERNEUT DIE WESTSTEIERMARK HEIMSUCHTE UND DIE BEVOELKERUNG STARK DEZIMIERTE SCHWOREN  DER UEBERLEBENDEN BAUERN DER UMGEBUNG FUER DIE ERRICHTUNG EINES ZU EHREN DES SOGENANNTEN PESTHEILIGEN SEBASTIAN GEWEIHTEN GOTTESHAUSES WAEHREND IHRES LEBENS DEN WERT EINER KUH ZU SPENDEN DIESE SPENDE WIRD ALS KUEHZINS BEZEICHNET UND DIE BAUERN SPENDETEN JEDES JAHR BIS DER GEGENWERT EINER KUH ENTRICHTET WORDEN WAR FALLS DAS SPENDENZIEL NICHT ZU LEBZEITEN ERREICHT WORDEN WAR WURDE ES VERERBT UND DIE NACHKOMMEN WAREN VERPFLICHTET ES ZU ERFUELLEN DAS SO ZUSAMMENGEBRACHTE GELD REICHTE AUS UM BEI KLEINSOEDING EINE GROESSERE KIRCHE ZU ERRICHTEN VOR DEM NEUBAU DER KIRCHE SOLL AN DEREN SPAETEREM STANDORT EINE ROMANISCHE JAGDKAPELLE DER SCHLOSSHERREN VON SOEDING GESTANDEN HABEN DIESE MUSSTE DEM NEUBAU WEICHEN DIE KIRCHE WURDE LAUT DEM GEISTLICHEN PERSONALSTAND DER DIOEZESE SECKAU IM JAHR  ERBAUT WOZU SEBASTIAN VON ROLLAU DEN AUFTRAG GEGEBEN HABE WAHRSCHEINLICH BEZIEHT SICH DIESE ANNAHME ABER NUR AUF DEN BAU DES CHORES DER BIS ZUR FERTIGSTELLUNG DER KIRCHE ALS KAPELLE GENUTZT WURDE IN DIESER KAPELLE BEFAND SICH BEREITS EINE AUS SANDSTEIN GEFERTIGTE STATUE DES HEILIGEN SEBASTIAN SIE SOLL VON MOENCHEN DIE AUS DEM SPANISCHEN SAN SEBASTIAN VERTRIEBEN WORDEN UND ZUM RIEDLHOF ODER RIEDERHOF BEI BERNDORF GEKOMMEN WAREN AUFGESTELLT WORDEN SEIN IN DEN NACHFOLGENDEN JAHREN STIEG DIE ZAHL DER WALLFAHRER STETIG AN MIT DEM SO EINGEBRACHTEN GELD KONNTEN BIS  DAS AN DEN CHOR ANGEBAUTE KIRCHENSCHIFF MIT FLACHER HOLZDECKE UND BIS  DER BAU DES KIRCHTURMS FINANZIERT WERDEN AUF DIE ERRICHTUNG DES KIRCHENSCHIFFS WEIST UNTER ANDEREM EIN MIT JAHRESZAHL UND ZEICHEN DES BAUMEISTERS VERSEHENER STEIN AM TORBOGEN DES TURMPORTALES HIN ZU DEN STIFTERN DER KIRCHE DUERFTEN AUCH DIE AUF SCHLOSS ROLLAU ANSAESSIGEN ROLLAUER GEHOERT HABEN DA DIE KIRCHE ALS IHRE GRABLEGE DIENTE\n"
     ]
    }
   ],
   "source": [
    "import re\n",
    "\n",
    "def findKey(enc):\n",
    "    t = Counter(enc)\n",
    "    x = t.most_common(1)[0][0]\n",
    "    key = LETTERS.find(x) - LETTERS.find(\"E\")\n",
    "    return key\n",
    "\n",
    "message = \"\"\"An der Stelle der heutigen Kirche befand sich vermutlich bereits in der Antike ein Kulthügel, und es gibt die Legende von einem dortigen Heidentempel. Später sollen Pestopfer auf diesem Hügel begraben worden sein. Es gibt zwar Aussagen von Anwohnern, die über Funde von Knochen berichten, aber es konnten bisher keine archäologischen Belege für einen Tempel oder ein Pestgrab erbracht werden. Die Bewohner der Gegend von Kleinsöding wurden spätestens ab dem 12. Jahrhundert von der 1136 erstmals urkundlich erwähnten Pfarre Mooskirchen aus seelsorgerisch versorgt. Als ab 1348 die Pest den heutigen Bezirk Voitsberg befiel, wurden die Dörfer Hardekk und Mukkaw bei Muggauberg sowie das bei Södingberg gelegene Reuner Dorf Sedinge vollständig entvölkert. Als um 1480 die Krankheit erneut die Weststeiermark heimsuchte und die Bevölkerung stark dezimierte, schworen 135 der überlebenden Bauern der Umgebung, für die Errichtung eines zu Ehren des sogenannten Pestheiligen Sebastian geweihten Gotteshauses während ihres Lebens den Wert einer Kuh zu spenden.[4] Diese Spende wird als Kühzins bezeichnet und die Bauern spendeten jedes Jahr, bis der Gegenwert einer Kuh entrichtet worden war. Falls das Spendenziel nicht zu Lebzeiten erreicht worden war, wurde es vererbt, und die Nachkommen waren verpflichtet, es zu erfüllen. Das so zusammengebrachte Geld reichte aus, um bei Kleinsöding eine größere Kirche zu errichten.[5][6][7] Vor dem Neubau der Kirche soll an deren späterem Standort eine romanische Jagdkapelle der Schlossherren von Söding gestanden haben. Diese musste dem Neubau weichen. Die Kirche wurde laut dem Geistlichen Personalstand der Diözese Seckau im Jahr 1508 erbaut, wozu Sebastian von Rollau den Auftrag gegeben habe. Wahrscheinlich bezieht sich diese Annahme aber nur auf den Bau des Chores, der bis zur Fertigstellung der Kirche als Kapelle genutzt wurde. In dieser Kapelle befand sich bereits eine aus Sandstein gefertigte Statue des heiligen Sebastian. Sie soll von Mönchen, die aus dem spanischen San Sebastian vertrieben worden und zum Riedlhof oder Riederhof bei Berndorf gekommen waren, aufgestellt worden sein. In den nachfolgenden Jahren stieg die Zahl der Wallfahrer stetig an. Mit dem so eingebrachten Geld konnten bis 1562 das an den Chor angebaute Kirchenschiff mit flacher Holzdecke und bis 1564 der Bau des Kirchturms finanziert werden. Auf die Errichtung des Kirchenschiffs weist unter anderem ein mit Jahreszahl und Zeichen des Baumeisters versehener Stein am Torbogen des Turmportales hin. Zu den Stiftern der Kirche dürften auch die auf Schloss Rollau ansässigen Rollauer gehört haben, da die Kirche als ihre Grablege diente.[5][6][8]\"\"\"\n",
    "message = message.upper()\n",
    "message =re.sub(\"ß\", \"SS\", message)\n",
    "message = re.sub(\"Ä\", \"AE\", message)\n",
    "message = re.sub(\"Ö\", \"OE\", message)\n",
    "message = re.sub(\"Ü\", \"UE\", message)\n",
    "message = re.sub(\"[^A-Z ]\",\"\", message)\n",
    "\n",
    "key = 3\n",
    "\n",
    "encryptedMessage = caesarEncrypt(message, key)\n",
    "\n",
    "message = caesarDecrypt(encryptedMessage, findKey(encryptedMessage))\n",
    "\n",
    "print(message)"
   ]
  },
  {
   "cell_type": "markdown",
   "metadata": {},
   "source": [
    "Brute Force"
   ]
  },
  {
   "cell_type": "code",
   "execution_count": 4,
   "metadata": {},
   "outputs": [
    {
     "name": "stdout",
     "output_type": "stream",
     "text": [
      "KHOORCKRZCDUHCARX\n",
      "JGNNQBJQYBCTGB QW\n",
      "IFMMPAIPXABSFAZPV\n",
      "HELLO HOW ARE YOU\n",
      "GDKKNZGNVZ QDZXNT\n",
      "FCJJMYFMUYZPCYWMS\n",
      "EBIILXELTXYOBXVLR\n",
      "DAHHKWDKSWXNAWUKQ\n",
      "C GGJVCJRVWM VTJP\n",
      "BZFFIUBIQUVLZUSIO\n",
      "AYEEHTAHPTUKYTRHN\n",
      " XDDGS GOSTJXSQGM\n",
      "ZWCCFRZFNRSIWRPFL\n",
      "YVBBEQYEMQRHVQOEK\n",
      "XUAADPXDLPQGUPNDJ\n",
      "WT  COWCKOPFTOMCI\n",
      "VSZZBNVBJNOESNLBH\n",
      "URYYAMUAIMNDRMKAG\n",
      "TQXX LT HLMCQLJ F\n",
      "SPWWZKSZGKLBPKIZE\n",
      "ROVVYJRYFJKAOJHYD\n",
      "QNUUXIQXEIJ NIGXC\n",
      "PMTTWHPWDHIZMHFWB\n",
      "OLSSVGOVCGHYLGEVA\n",
      "NKRRUFNUBFGXKFDU \n",
      "MJQQTEMTAEFWJECTZ\n",
      "LIPPSDLS DEVIDBSY\n"
     ]
    }
   ],
   "source": [
    "def caesarDecrypt_bruteForce(message):\n",
    "    for key in range(1, 27):\n",
    "        dcMsg = \"\"\n",
    "        for s in message:  \n",
    "            if s in LETTERS:  \n",
    "                n = LETTERS.find(s)  \n",
    "                n = n - key\n",
    "                dcMsg = dcMsg + LETTERS[n]\n",
    "        print(dcMsg)\n",
    "\n",
    "message = \"HELLO, HOW ARE YOU?\"\n",
    "key = 3\n",
    "\n",
    "encryptedMessage = caesarEncrypt(message, key)\n",
    "\n",
    "print(encryptedMessage)\n",
    "\n",
    "caesarDecrypt_bruteForce(encryptedMessage)\n"
   ]
  },
  {
   "cell_type": "markdown",
   "metadata": {},
   "source": [
    "Encryption mithilfe von Zahlen im Hexadezimalen System (FIXME)"
   ]
  },
  {
   "cell_type": "code",
   "execution_count": 9,
   "metadata": {},
   "outputs": [
    {
     "name": "stdout",
     "output_type": "stream",
     "text": [
      "477574656E20546167 18\n",
      "699796878042768389 18\n"
     ]
    }
   ],
   "source": [
    "import base64\n",
    "message = \"Guten Tag\"\n",
    "number = base64.b16encode(message.encode()).decode()\n",
    "print(number, len(number))\n",
    "ziffern = [\"0\", \"1\", \"2\", \"3\", \"4\", \"5\", \"6\", \"7\", \"8\", \"9\", \"A\", \"B\", \"C\", \"D\", \"E\", \"F\"] \n",
    "key = 2\n",
    "\n",
    "\n",
    "def caesarEncrypt2(number, key):\n",
    "    encNb = \"\"\n",
    "    for s in number:  \n",
    "        if s in ziffern:  \n",
    "            n = ziffern.index(s)  \n",
    "            n = n + key\n",
    "            if n > 15:  \n",
    "                n = n - 16\n",
    "            encNb = encNb + ziffern[n]\n",
    "    return encNb\n",
    "\n",
    "encryptedNumber = caesarEncrypt2(number = number, key = key)\n",
    "print(encryptedNumber, len(encryptedNumber))"
   ]
  },
  {
   "cell_type": "markdown",
   "metadata": {},
   "source": [
    "Decoder:"
   ]
  },
  {
   "cell_type": "code",
   "execution_count": 10,
   "metadata": {},
   "outputs": [
    {
     "name": "stdout",
     "output_type": "stream",
     "text": [
      "477574656E20546167 18\n",
      "Guten Tag\n"
     ]
    }
   ],
   "source": [
    "def caesarDencrypt2(enc, key):\n",
    "    decrNb = \"\"\n",
    "    for s in enc:\n",
    "        if s in ziffern:  \n",
    "            n = ziffern.index(s) \n",
    "            n = n - key\n",
    "            decrNb = decrNb + ziffern[n]\n",
    "    return decrNb\n",
    "\n",
    "decryptedNumber = caesarDencrypt2(enc = encryptedNumber, key = key)\n",
    "print(decryptedNumber, len(decryptedNumber))\n",
    "zText = base64.b16decode(decryptedNumber)\n",
    "message = str(zText, encoding=\"utf-8\")\n",
    "print(message)"
   ]
  },
  {
   "cell_type": "markdown",
   "metadata": {},
   "source": [
    "# Caesar Textanalyse"
   ]
  },
  {
   "cell_type": "code",
   "execution_count": 4,
   "metadata": {},
   "outputs": [
    {
     "name": "stdout",
     "output_type": "stream",
     "text": [
      "[('l', 2), ('H', 1), ('a', 1), ('o', 1)]\n"
     ]
    }
   ],
   "source": [
    "from collections import Counter\n",
    "text = \"\"\"Hallo\"\"\"\n",
    "t = Counter(text)\n",
    "\n",
    "print(t.most_common(5))"
   ]
  },
  {
   "cell_type": "markdown",
   "metadata": {},
   "source": [
    "# Vigenère-Chiffre"
   ]
  },
  {
   "cell_type": "code",
   "execution_count": 67,
   "metadata": {},
   "outputs": [
    {
     "name": "stdout",
     "output_type": "stream",
     "text": [
      "CCEPXOFMK\n"
     ]
    }
   ],
   "source": [
    "message = \"GUTEN TAG\"\n",
    "LETTERS = 'ABCDEFGHIJKLMNOPQRSTUVWXYZ '  \n",
    "keyWord = \"WILLKOMMEN\"\n",
    "\n",
    "\n",
    "def encrypt(message, keyWord):\n",
    "    encMsg = \"\"\n",
    "    key = []\n",
    "    counter = 0\n",
    "    for s in keyWord:  \n",
    "        if s in LETTERS:  \n",
    "            key.append(LETTERS.find(s))\n",
    "    for i in message:\n",
    "        if counter == len(key):\n",
    "            counter = 0\n",
    "        n = LETTERS.find(i)\n",
    "        n = n + key[counter]\n",
    "        counter += 1\n",
    "        if n > 26:  \n",
    "            n = n - 27\n",
    "        encMsg = encMsg + LETTERS[n]\n",
    "    return encMsg\n",
    "\n",
    "encryptedMessage = encrypt(message = message, keyWord = keyWord)\n",
    "print(encryptedMessage)"
   ]
  }
 ],
 "metadata": {
  "kernelspec": {
   "display_name": "Python 3.10.6 64-bit",
   "language": "python",
   "name": "python3"
  },
  "language_info": {
   "codemirror_mode": {
    "name": "ipython",
    "version": 3
   },
   "file_extension": ".py",
   "mimetype": "text/x-python",
   "name": "python",
   "nbconvert_exporter": "python",
   "pygments_lexer": "ipython3",
   "version": "3.10.7"
  },
  "orig_nbformat": 4,
  "vscode": {
   "interpreter": {
    "hash": "c1319b172803ae98a5e2c79756cc6d40ce95375dd6f96b2cc6481bc6dc5a29ce"
   }
  }
 },
 "nbformat": 4,
 "nbformat_minor": 2
}
