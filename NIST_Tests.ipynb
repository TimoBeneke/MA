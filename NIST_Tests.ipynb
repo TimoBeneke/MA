{
 "cells": [
  {
   "cell_type": "code",
   "execution_count": 48,
   "metadata": {},
   "outputs": [
    {
     "name": "stdout",
     "output_type": "stream",
     "text": [
      "Number of Zeroes: 2097151\n",
      "Number of Ones: 2097152\n"
     ]
    },
    {
     "data": {
      "text/plain": [
       "'number = 0\\n\\nfor bit in stream:\\n    number = number << 1\\n    number = number | bit'"
      ]
     },
     "execution_count": 48,
     "metadata": {},
     "output_type": "execute_result"
    }
   ],
   "source": [
    "state = 0b1000010010110001000011\n",
    "length = 4194303\n",
    "\n",
    "def lfsr(length, state):\n",
    "    outputs = []\n",
    "    for i in range(length):\n",
    "        outputs.append(state & 1)\n",
    "        newbit = ((state ^ (state >> 1)) & 1)\n",
    "        state = (state >> 1) | (newbit << 21)\n",
    "    return outputs\n",
    "\n",
    "\n",
    "stream = lfsr(length, state)\n",
    "\n",
    "numOne = 0\n",
    "numZero = 0\n",
    "\n",
    "for i in stream:\n",
    "    if i == 1:\n",
    "        numOne += 1\n",
    "    else:\n",
    "        numZero += 1\n",
    "\n",
    "print (\"Number of Zeroes: \" + str(numZero))\n",
    "print (\"Number of Ones: \" + str(numOne))\n",
    "\n",
    "\"\"\"number = 0\n",
    "\n",
    "for bit in stream:\n",
    "    number = number << 1\n",
    "    number = number | bit\"\"\""
   ]
  },
  {
   "cell_type": "markdown",
   "metadata": {},
   "source": [
    "# Frequency (Monobit) Test"
   ]
  },
  {
   "cell_type": "code",
   "execution_count": 33,
   "metadata": {},
   "outputs": [
    {
     "name": "stdout",
     "output_type": "stream",
     "text": [
      "sn: -483\n",
      "sObs: 0.23583987186430524\n",
      "p-Value: 0.8135569274080988\n",
      "The random sequence passed the Frequency (Monobit) Test\n",
      "sn: 1\n",
      "sObs: 0.0004882813082076713\n",
      "p-Value: 0.9996104078983334\n",
      "The random sequence passed the Frequency (Monobit) Test\n",
      "sn: -407\n",
      "sObs: 0.19873049244052224\n",
      "p-Value: 0.8424735702226291\n",
      "The random sequence passed the Frequency (Monobit) Test\n",
      "sn: -131\n",
      "sObs: 0.06396485137520494\n",
      "p-Value: 0.9489982140094659\n",
      "The random sequence passed the Frequency (Monobit) Test\n",
      "sn: 1\n",
      "sObs: 0.0004882813082076713\n",
      "p-Value: 0.9996104078983334\n",
      "The random sequence passed the Frequency (Monobit) Test\n"
     ]
    }
   ],
   "source": [
    "import math\n",
    "\n",
    "def frequencyMonobit(stream, start, end):\n",
    "    sn = 0\n",
    "\n",
    "    for bit in stream[start:end]:\n",
    "        if bit == 1:\n",
    "            sn += 1\n",
    "        else:\n",
    "            sn -= 1\n",
    "\n",
    "    print(f\"sn: {sn}\")\n",
    "    sObs = math.sqrt(sn**2)/math.sqrt(len(stream))\n",
    "    print(f\"sObs: {sObs}\")\n",
    "    pValue = math.erfc(sObs/math.sqrt(2))\n",
    "    print(f\"p-Value: {pValue}\")\n",
    "\n",
    "    if pValue >= 0.01:\n",
    "        print(\"The random sequence passed the Frequency (Monobit) Test\")\n",
    "    else:\n",
    "        print(\"The random sequence failed the Frequency (Monobit) Test\")\n",
    "\n",
    "frequencyMonobit(stream, 0, len(stream)//2)\n",
    "frequencyMonobit(stream, 0, len(stream))\n",
    "frequencyMonobit(stream, 0, len(stream)//16)\n",
    "frequencyMonobit(stream, 0, len(stream)//32)\n",
    "frequencyMonobit(stream, 0, 199)"
   ]
  },
  {
   "cell_type": "markdown",
   "metadata": {},
   "source": [
    "# Frequency Test within a Block"
   ]
  },
  {
   "cell_type": "code",
   "execution_count": 13,
   "metadata": {},
   "outputs": [
    {
     "name": "stdout",
     "output_type": "stream",
     "text": [
      "p-Value: 0.5195076364133581\n",
      "The random sequence passed the Frequency Test within a Block\n"
     ]
    }
   ],
   "source": [
    "import scipy\n",
    "\n",
    "def frequencyBlock(stream, block_size):\n",
    "    n = len(stream) // block_size\n",
    "    start = 0\n",
    "    end = block_size\n",
    "    ps = 0.0\n",
    "    for i in range(n):\n",
    "        block = stream[start:end]\n",
    "        ones_count = 0\n",
    "        for bit in block:\n",
    "            if bit == 1:\n",
    "                ones_count += 1\n",
    "        pi = ones_count / block_size\n",
    "        ps += pow(pi - 0.5, 2.0)\n",
    "        start += block_size\n",
    "        end += block_size\n",
    "    chi_squared = 4.0 * block_size * ps\n",
    "    pValue = scipy.special.gammaincc(n / 2, chi_squared / 2)\n",
    "    print(f\"p-Value: {pValue}\")\n",
    "    \n",
    "    if pValue >= 0.01:\n",
    "        print(\"The random sequence passed the Frequency Test within a Block\")\n",
    "    else:\n",
    "        print(\"The random sequence failed the Frequency Test within a Block\")\n",
    "\n",
    "frequencyBlock(stream, 64)\n"
   ]
  },
  {
   "cell_type": "markdown",
   "metadata": {},
   "source": [
    "# Runs Test"
   ]
  },
  {
   "cell_type": "code",
   "execution_count": 34,
   "metadata": {},
   "outputs": [
    {
     "name": "stdout",
     "output_type": "stream",
     "text": [
      "The sequence passed the Runs Test\n"
     ]
    }
   ],
   "source": [
    "import math\n",
    "\n",
    "def runsTest(stream):\n",
    "    number = 0\n",
    "    for bit in stream:\n",
    "        number += bit\n",
    "    pi = number / len(stream)\n",
    "    if (abs(pi - 1/2)) <= (2/math.sqrt(len(stream))):\n",
    "        vnObs = 0\n",
    "        for i in range(len(stream) - 1):\n",
    "            if not stream[i] == stream[i + 1]:\n",
    "                vnObs += 1\n",
    "        vnObs += 1\n",
    "        pValue = math.erfc((vnObs - (2*len(stream)*pi*(1 - pi)))/(2*math.sqrt(2*len(stream))*pi*(1 - pi)))\n",
    "        if pValue >= 0.01:\n",
    "            print(\"The sequence passed the Runs Test\")\n",
    "        else:\n",
    "            print(\"The sequence failed the Runs Test\")\n",
    "\n",
    "    else:\n",
    "        print(\"The test wasn't run\")\n",
    "\n",
    "\n",
    "runsTest(stream)"
   ]
  },
  {
   "cell_type": "markdown",
   "metadata": {},
   "source": [
    "# Test for the Longest Run of Ones in a Block"
   ]
  },
  {
   "cell_type": "code",
   "execution_count": 60,
   "metadata": {},
   "outputs": [
    {
     "name": "stdout",
     "output_type": "stream",
     "text": [
      "[3, 1, 2]\n",
      "3\n"
     ]
    }
   ],
   "source": [
    "\n",
    "def longestRuns(stream):\n",
    "    if len(stream) < 128:\n",
    "        print(\"Not enough Data\")\n",
    "    elif len(stream) < 6272:\n",
    "        m = 8\n",
    "        k = 3\n",
    "        n = 16\n",
    "    elif len(stream) < 750000:\n",
    "        m = 128\n",
    "        k = 5\n",
    "        n = 49\n",
    "    else:\n",
    "        m = 10**4\n",
    "        k = 6\n",
    "        n = 75\n",
    "\n",
    "    vi = []\n",
    "    anz = len(stream) // m\n",
    "    start = 0\n",
    "    end = m\n",
    "    run = 0\n",
    "    runs = []\n",
    "    for i in range(anz):\n",
    "        block = stream[start:end]\n",
    "        for c in range(m):\n",
    "            if block[c] == 1:\n",
    "                run += 1\n",
    "                one = True\n",
    "            elif block[c] == 0 and one == True:\n",
    "                one = False\n",
    "                runs.append(run)\n",
    "                run = 0\n",
    "        runs.append(run)\n",
    "        runs.sort()\n",
    "        vi.append(runs[-1])\n",
    "\n",
    "\n",
    "\n",
    "\n",
    "\n",
    "    "
   ]
  }
 ],
 "metadata": {
  "kernelspec": {
   "display_name": "Python 3.10.6 64-bit",
   "language": "python",
   "name": "python3"
  },
  "language_info": {
   "codemirror_mode": {
    "name": "ipython",
    "version": 3
   },
   "file_extension": ".py",
   "mimetype": "text/x-python",
   "name": "python",
   "nbconvert_exporter": "python",
   "pygments_lexer": "ipython3",
   "version": "3.10.7"
  },
  "orig_nbformat": 4,
  "vscode": {
   "interpreter": {
    "hash": "c1319b172803ae98a5e2c79756cc6d40ce95375dd6f96b2cc6481bc6dc5a29ce"
   }
  }
 },
 "nbformat": 4,
 "nbformat_minor": 2
}
