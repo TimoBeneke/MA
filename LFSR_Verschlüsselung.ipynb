{
 "cells": [
  {
   "cell_type": "markdown",
   "metadata": {},
   "source": [
    "# LFSRs"
   ]
  },
  {
   "cell_type": "markdown",
   "metadata": {},
   "source": [
    "LFSR mit Rückgabe einer Liste mit jedem State"
   ]
  },
  {
   "cell_type": "code",
   "execution_count": 2,
   "metadata": {},
   "outputs": [
    {
     "name": "stdout",
     "output_type": "stream",
     "text": [
      "4194304\n",
      "Maximum Period\n"
     ]
    }
   ],
   "source": [
    "state = 0b1000010010110001000011\n",
    "length = 4194304\n",
    "\n",
    "def lfsr(length, state):\n",
    "    outputs = []\n",
    "    for i in range(length):\n",
    "        outputs.append(state)\n",
    "        newbit = ((state ^ (state >> 1)) & 1)\n",
    "        state = (state >> 1) | (newbit << 21)\n",
    "    return outputs\n",
    "\n",
    "\n",
    "stream = lfsr(length, state)\n",
    "\n",
    "# Überprüfen ob LFSR maximaler Länge entspricht\n",
    "print(len(stream))\n",
    "\n",
    "if stream[0] == stream[-1]:\n",
    "    print(\"Maximum Period\")"
   ]
  },
  {
   "cell_type": "markdown",
   "metadata": {},
   "source": [
    "LFSR für Verschlüsselung"
   ]
  },
  {
   "cell_type": "code",
   "execution_count": 2,
   "metadata": {},
   "outputs": [
    {
     "name": "stdout",
     "output_type": "stream",
     "text": [
      "Number of Zeroes: 2097151\n",
      "Number of Ones: 2097152\n"
     ]
    }
   ],
   "source": [
    "state = 0b1000010010110001000011\n",
    "length = 4194303\n",
    "\n",
    "def lfsr(length, state):\n",
    "    outputs = []\n",
    "    for i in range(length):\n",
    "        # Ausgabe an Liste anfügen (state & 1)\n",
    "        outputs.append(state & 1)\n",
    "        # Berechnung des newbits\n",
    "        newbit = ((state ^ (state >> 1)) & 1)\n",
    "        # Anhängen des newbits + shift nach rechts\n",
    "        state = (state >> 1) | (newbit << 21)\n",
    "    return outputs\n",
    "\n",
    "\n",
    "stream = lfsr(length, state)\n",
    "\n",
    "numOne = 0\n",
    "numZero = 0\n",
    "\n",
    "# Zählen von Nullen und Einsen\n",
    "for i in stream:\n",
    "    if i == 1:\n",
    "        numOne += 1\n",
    "    else:\n",
    "        numZero += 1\n",
    "\n",
    "print (\"Number of Zeroes: \" + str(numZero))\n",
    "print (\"Number of Ones: \" + str(numOne))"
   ]
  },
  {
   "cell_type": "markdown",
   "metadata": {},
   "source": [
    "# Lesen und Verschlüsseln des Files"
   ]
  },
  {
   "cell_type": "code",
   "execution_count": 4,
   "metadata": {},
   "outputs": [],
   "source": [
    "file = open(\"File.jpg\", \"rb\")\n",
    "\n",
    "data = file.read()\n",
    "result = []\n",
    "\n",
    "# bytearray zu Liste mit Bits\n",
    "for b in data:\n",
    "    for i in range(8):\n",
    "        result.append((b & (1 << 7)) >> 7)\n",
    "        b = b << 1\n"
   ]
  },
  {
   "cell_type": "code",
   "execution_count": 5,
   "metadata": {},
   "outputs": [
    {
     "data": {
      "text/plain": [
       "1603177"
      ]
     },
     "execution_count": 5,
     "metadata": {},
     "output_type": "execute_result"
    }
   ],
   "source": [
    "out_data = bytearray()\n",
    "outfile = open(\"verschluesselt.jpg\", \"wb\")\n",
    "bits = result[0:8]\n",
    "number = 0\n",
    "\n",
    "# Wählen eines seeds (Schlüssels)\n",
    "seed = 0b1000010010110001000011\n",
    "\n",
    "# Generieren eines Bitstreams der Länge des Dokuments entsprechend\n",
    "stream = lfsr(len(result), seed)\n",
    "length = len(result) // 8\n",
    "x = 0\n",
    "y = 8\n",
    "counter = 0\n",
    "\n",
    "# Liste mit Bits zu verschlüsselter bytearray\n",
    "for i in range(length):\n",
    "    number = 0\n",
    "    bits = result[x:y]\n",
    "    x += 8\n",
    "    y += 8\n",
    "    for bit in bits:\n",
    "        # Verschlüsseln der Bit Liste\n",
    "        bit = bit ^ stream[counter]\n",
    "        # Wiederherstellen einer Bytearray\n",
    "        number = number << 1\n",
    "        number = number | bit\n",
    "        counter += 1\n",
    "\n",
    "    out_data.append(number)\n",
    "\n",
    "outfile.write(out_data)"
   ]
  },
  {
   "cell_type": "markdown",
   "metadata": {},
   "source": [
    "# Lesen und Entschlüsseln des Files"
   ]
  },
  {
   "cell_type": "code",
   "execution_count": 6,
   "metadata": {},
   "outputs": [],
   "source": [
    "file = open(\"verschluesselt.jpg\", \"rb\")\n",
    "\n",
    "data = file.read()\n",
    "result = []\n",
    "\n",
    "# Verschlüsselte bytearray zu Bit Liste\n",
    "for b in data:\n",
    "    for i in range(8):\n",
    "        result.append((b & (1 << 7)) >> 7)\n",
    "        b = b << 1\n"
   ]
  },
  {
   "cell_type": "code",
   "execution_count": 7,
   "metadata": {},
   "outputs": [
    {
     "data": {
      "text/plain": [
       "1603177"
      ]
     },
     "execution_count": 7,
     "metadata": {},
     "output_type": "execute_result"
    }
   ],
   "source": [
    "out_data = bytearray()\n",
    "outfile = open(\"entschluesselt.jpg\", \"wb\")\n",
    "bits = result[0:8]\n",
    "number = 0\n",
    "\n",
    "\n",
    "# Generieren des Bitstreams der Länge des Dokuments (selber Bitstream wie bei Verschlüsselung)\n",
    "stream = lfsr(len(result), seed) # Verwenden des selben seeds\n",
    "length = len(result) // 8\n",
    "x = 0\n",
    "y = 8\n",
    "counter = 0\n",
    "\n",
    "# Verschlüsselte Bit Liste zu entschlüsselter bytearray\n",
    "for i in range(length):\n",
    "    number = 0\n",
    "    bits = result[x:y]\n",
    "    x += 8\n",
    "    y += 8\n",
    "    for bit in bits:\n",
    "        # Entschlüsseln der Bits\n",
    "        bit = bit ^ stream[counter]\n",
    "        # Herstellen der ursprünglichen Bytearray\n",
    "        number = number << 1\n",
    "        number = number | bit\n",
    "        counter += 1\n",
    "\n",
    "    out_data.append(number)\n",
    "\n",
    "outfile.write(out_data)"
   ]
  }
 ],
 "metadata": {
  "kernelspec": {
   "display_name": "Python 3.10.6 64-bit",
   "language": "python",
   "name": "python3"
  },
  "language_info": {
   "codemirror_mode": {
    "name": "ipython",
    "version": 3
   },
   "file_extension": ".py",
   "mimetype": "text/x-python",
   "name": "python",
   "nbconvert_exporter": "python",
   "pygments_lexer": "ipython3",
   "version": "3.10.7"
  },
  "orig_nbformat": 4,
  "vscode": {
   "interpreter": {
    "hash": "c1319b172803ae98a5e2c79756cc6d40ce95375dd6f96b2cc6481bc6dc5a29ce"
   }
  }
 },
 "nbformat": 4,
 "nbformat_minor": 2
}
