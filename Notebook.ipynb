{
 "cells": [
  {
   "cell_type": "markdown",
   "metadata": {},
   "source": [
    "# Caesar Cipher\n",
    "\n",
    "Mit (Gross-)Buchstaben aus Alphabet"
   ]
  },
  {
   "cell_type": "code",
   "execution_count": 12,
   "metadata": {},
   "outputs": [
    {
     "name": "stdout",
     "output_type": "stream",
     "text": [
      "JXWHQCWDJ\n"
     ]
    }
   ],
   "source": [
    "message = \"GUTEN TAG\"\n",
    "LETTERS = 'ABCDEFGHIJKLMNOPQRSTUVWXYZ '  \n",
    "key = 3\n",
    "\n",
    "\n",
    "def caesarEncrypt(message, key):\n",
    "    encMsg = \"\"\n",
    "    for s in message:  \n",
    "        if s in LETTERS:  \n",
    "            n = LETTERS.find(s)  \n",
    "            n = n + key\n",
    "            if n > 26:  \n",
    "                n = n - 27\n",
    "            encMsg = encMsg + LETTERS[n]\n",
    "    return encMsg\n",
    "\n",
    "encryptedMessage = caesarEncrypt(message = message, key = key)\n",
    "print(encryptedMessage)"
   ]
  },
  {
   "cell_type": "markdown",
   "metadata": {},
   "source": [
    "Decoder:"
   ]
  },
  {
   "cell_type": "code",
   "execution_count": 13,
   "metadata": {},
   "outputs": [
    {
     "name": "stdout",
     "output_type": "stream",
     "text": [
      "M ZKTFZGM\n"
     ]
    }
   ],
   "source": [
    "def caesarDecrypt(message, key):\n",
    "    dcMsg = \"\"\n",
    "    for s in message:  \n",
    "        if s in LETTERS:  \n",
    "            n = LETTERS.find(s)  \n",
    "            n = n - key\n",
    "            dcMsg = dcMsg + LETTERS[n]\n",
    "    return dcMsg\n",
    "\n",
    "decryptedMessage = caesarEncrypt(message = encryptedMessage, key = key)\n",
    "print(decryptedMessage)"
   ]
  },
  {
   "cell_type": "markdown",
   "metadata": {},
   "source": [
    "# Decoding von Caesar mit Ciphertext only"
   ]
  },
  {
   "cell_type": "markdown",
   "metadata": {},
   "source": [
    "Häufigkeitsanalyse"
   ]
  },
  {
   "cell_type": "code",
   "execution_count": 33,
   "metadata": {},
   "outputs": [
    {
     "name": "stdout",
     "output_type": "stream",
     "text": [
      "[('l', 2)]\n"
     ]
    }
   ],
   "source": [
    "from collections import Counter\n",
    "text = \"\"\"Hallo\"\"\"\n",
    "t = Counter(text)\n",
    "\n",
    "print(t.most_common(1))"
   ]
  },
  {
   "cell_type": "code",
   "execution_count": 59,
   "metadata": {},
   "outputs": [
    {
     "name": "stdout",
     "output_type": "stream",
     "text": [
      "AN DER STELLE DER HEUTIGEN KIRCHE BEFAND SICH VERMUTLICH BEREITS IN DER ANTIKE EIN KULTHUEGEL UND ES GIBT DIE LEGENDE VON EINEM DORTIGEN HEIDENTEMPEL SPAETER SOLLEN PESTOPFER AUF DIESEM HUEGEL BEGRABEN WORDEN SEIN ES GIBT ZWAR AUSSAGEN VON ANWOHNERN DIE UEBER FUNDE VON KNOCHEN BERICHTEN ABER ES KONNTEN BISHER KEINE ARCHAEOLOGISCHEN BELEGE FUER EINEN TEMPEL ODER EIN PESTGRAB ERBRACHT WERDEN DIE BEWOHNER DER GEGEND VON KLEINSOEDING WURDEN SPAETESTENS AB DEM  JAHRHUNDERT VON DER  ERSTMALS URKUNDLICH ERWAEHNTEN PFARRE MOOSKIRCHEN AUS SEELSORGERISCH VERSORGT ALS AB  DIE PEST DEN HEUTIGEN BEZIRK VOITSBERG BEFIEL WURDEN DIE DOERFER HARDEKK UND MUKKAW BEI MUGGAUBERG SOWIE DAS BEI SOEDINGBERG GELEGENE REUNER DORF SEDINGE VOLLSTAENDIG ENTVOELKERT ALS UM  DIE KRANKHEIT ERNEUT DIE WESTSTEIERMARK HEIMSUCHTE UND DIE BEVOELKERUNG STARK DEZIMIERTE SCHWOREN  DER UEBERLEBENDEN BAUERN DER UMGEBUNG FUER DIE ERRICHTUNG EINES ZU EHREN DES SOGENANNTEN PESTHEILIGEN SEBASTIAN GEWEIHTEN GOTTESHAUSES WAEHREND IHRES LEBENS DEN WERT EINER KUH ZU SPENDEN DIESE SPENDE WIRD ALS KUEHZINS BEZEICHNET UND DIE BAUERN SPENDETEN JEDES JAHR BIS DER GEGENWERT EINER KUH ENTRICHTET WORDEN WAR FALLS DAS SPENDENZIEL NICHT ZU LEBZEITEN ERREICHT WORDEN WAR WURDE ES VERERBT UND DIE NACHKOMMEN WAREN VERPFLICHTET ES ZU ERFUELLEN DAS SO ZUSAMMENGEBRACHTE GELD REICHTE AUS UM BEI KLEINSOEDING EINE GROESSERE KIRCHE ZU ERRICHTEN VOR DEM NEUBAU DER KIRCHE SOLL AN DEREN SPAETEREM STANDORT EINE ROMANISCHE JAGDKAPELLE DER SCHLOSSHERREN VON SOEDING GESTANDEN HABEN DIESE MUSSTE DEM NEUBAU WEICHEN DIE KIRCHE WURDE LAUT DEM GEISTLICHEN PERSONALSTAND DER DIOEZESE SECKAU IM JAHR  ERBAUT WOZU SEBASTIAN VON ROLLAU DEN AUFTRAG GEGEBEN HABE WAHRSCHEINLICH BEZIEHT SICH DIESE ANNAHME ABER NUR AUF DEN BAU DES CHORES DER BIS ZUR FERTIGSTELLUNG DER KIRCHE ALS KAPELLE GENUTZT WURDE IN DIESER KAPELLE BEFAND SICH BEREITS EINE AUS SANDSTEIN GEFERTIGTE STATUE DES HEILIGEN SEBASTIAN SIE SOLL VON MOENCHEN DIE AUS DEM SPANISCHEN SAN SEBASTIAN VERTRIEBEN WORDEN UND ZUM RIEDLHOF ODER RIEDERHOF BEI BERNDORF GEKOMMEN WAREN AUFGESTELLT WORDEN SEIN IN DEN NACHFOLGENDEN JAHREN STIEG DIE ZAHL DER WALLFAHRER STETIG AN MIT DEM SO EINGEBRACHTEN GELD KONNTEN BIS  DAS AN DEN CHOR ANGEBAUTE KIRCHENSCHIFF MIT FLACHER HOLZDECKE UND BIS  DER BAU DES KIRCHTURMS FINANZIERT WERDEN AUF DIE ERRICHTUNG DES KIRCHENSCHIFFS WEIST UNTER ANDEREM EIN MIT JAHRESZAHL UND ZEICHEN DES BAUMEISTERS VERSEHENER STEIN AM TORBOGEN DES TURMPORTALES HIN ZU DEN STIFTERN DER KIRCHE DUERFTEN AUCH DIE AUF SCHLOSS ROLLAU ANSAESSIGEN ROLLAUER GEHOERT HABEN DA DIE KIRCHE ALS IHRE GRABLEGE DIENTE\n"
     ]
    }
   ],
   "source": [
    "import re\n",
    "from collections import Counter\n",
    "\n",
    "def findKey(enc):\n",
    "    t = Counter(enc)\n",
    "    x = t.most_common(1)[0][0]\n",
    "    key = LETTERS.find(x) - LETTERS.find(\"E\")\n",
    "    return key\n",
    "\n",
    "message = \"\"\"An der Stelle der heutigen Kirche befand sich vermutlich bereits in der Antike ein Kulthügel, und es gibt die Legende von einem dortigen Heidentempel. Später sollen Pestopfer auf diesem Hügel begraben worden sein. Es gibt zwar Aussagen von Anwohnern, die über Funde von Knochen berichten, aber es konnten bisher keine archäologischen Belege für einen Tempel oder ein Pestgrab erbracht werden. Die Bewohner der Gegend von Kleinsöding wurden spätestens ab dem 12. Jahrhundert von der 1136 erstmals urkundlich erwähnten Pfarre Mooskirchen aus seelsorgerisch versorgt. Als ab 1348 die Pest den heutigen Bezirk Voitsberg befiel, wurden die Dörfer Hardekk und Mukkaw bei Muggauberg sowie das bei Södingberg gelegene Reuner Dorf Sedinge vollständig entvölkert. Als um 1480 die Krankheit erneut die Weststeiermark heimsuchte und die Bevölkerung stark dezimierte, schworen 135 der überlebenden Bauern der Umgebung, für die Errichtung eines zu Ehren des sogenannten Pestheiligen Sebastian geweihten Gotteshauses während ihres Lebens den Wert einer Kuh zu spenden.[4] Diese Spende wird als Kühzins bezeichnet und die Bauern spendeten jedes Jahr, bis der Gegenwert einer Kuh entrichtet worden war. Falls das Spendenziel nicht zu Lebzeiten erreicht worden war, wurde es vererbt, und die Nachkommen waren verpflichtet, es zu erfüllen. Das so zusammengebrachte Geld reichte aus, um bei Kleinsöding eine größere Kirche zu errichten.[5][6][7] Vor dem Neubau der Kirche soll an deren späterem Standort eine romanische Jagdkapelle der Schlossherren von Söding gestanden haben. Diese musste dem Neubau weichen. Die Kirche wurde laut dem Geistlichen Personalstand der Diözese Seckau im Jahr 1508 erbaut, wozu Sebastian von Rollau den Auftrag gegeben habe. Wahrscheinlich bezieht sich diese Annahme aber nur auf den Bau des Chores, der bis zur Fertigstellung der Kirche als Kapelle genutzt wurde. In dieser Kapelle befand sich bereits eine aus Sandstein gefertigte Statue des heiligen Sebastian. Sie soll von Mönchen, die aus dem spanischen San Sebastian vertrieben worden und zum Riedlhof oder Riederhof bei Berndorf gekommen waren, aufgestellt worden sein. In den nachfolgenden Jahren stieg die Zahl der Wallfahrer stetig an. Mit dem so eingebrachten Geld konnten bis 1562 das an den Chor angebaute Kirchenschiff mit flacher Holzdecke und bis 1564 der Bau des Kirchturms finanziert werden. Auf die Errichtung des Kirchenschiffs weist unter anderem ein mit Jahreszahl und Zeichen des Baumeisters versehener Stein am Torbogen des Turmportales hin. Zu den Stiftern der Kirche dürften auch die auf Schloss Rollau ansässigen Rollauer gehört haben, da die Kirche als ihre Grablege diente.[5][6][8]\"\"\"\n",
    "message = message.upper()\n",
    "message =re.sub(\"ß\", \"SS\", message)\n",
    "message = re.sub(\"Ä\", \"AE\", message)\n",
    "message = re.sub(\"Ö\", \"OE\", message)\n",
    "message = re.sub(\"Ü\", \"UE\", message)\n",
    "message = re.sub(\"[^A-Z ]\",\"\", message)\n",
    "\n",
    "key = 3\n",
    "\n",
    "encryptedMessage = caesarEncrypt(message, key)\n",
    "\n",
    "message = caesarDecrypt(encryptedMessage, findKey(encryptedMessage))\n",
    "\n",
    "print(message)"
   ]
  },
  {
   "cell_type": "code",
   "execution_count": 17,
   "metadata": {},
   "outputs": [
    {
     "name": "stdout",
     "output_type": "stream",
     "text": [
      "[('H', 428), ('Q', 197), ('U', 176), ('L', 152), ('V', 149), ('G', 129), ('D', 127), ('W', 110), ('K', 98), ('X', 92), ('O', 78), ('R', 73), ('J', 69), ('E', 64), ('F', 55), ('P', 42), ('N', 41), ('I', 34), ('Z', 34), ('C', 25), ('S', 22), ('Y', 19), ('M', 7)]\n"
     ]
    }
   ],
   "source": [
    "from collections import Counter\n",
    "import re\n",
    "\n",
    "def häufigkeit(enc):\n",
    "    t = Counter(enc)\n",
    "    t = t.most_common(26)\n",
    "    return t\n",
    "\n",
    "def caesarEncrypt_2(message, key):\n",
    "    encMsg = \"\"\n",
    "    for s in message:  \n",
    "        if s in LETTERS:  \n",
    "            n = LETTERS.find(s)  \n",
    "            n = n + key\n",
    "            if n > 25:  \n",
    "                n = n - 26\n",
    "            encMsg = encMsg + LETTERS[n]\n",
    "    return encMsg\n",
    "\n",
    "LETTERS = 'ABCDEFGHIJKLMNOPQRSTUVWXYZ'  \n",
    "key = 3\n",
    "\n",
    "message = \"\"\"An der Stelle der heutigen Kirche befand sich vermutlich bereits in der Antike ein Kulthügel, und es gibt die Legende von einem dortigen Heidentempel. Später sollen Pestopfer auf diesem Hügel begraben worden sein. Es gibt zwar Aussagen von Anwohnern, die über Funde von Knochen berichten, aber es konnten bisher keine archäologischen Belege für einen Tempel oder ein Pestgrab erbracht werden. Die Bewohner der Gegend von Kleinsöding wurden spätestens ab dem 12. Jahrhundert von der 1136 erstmals urkundlich erwähnten Pfarre Mooskirchen aus seelsorgerisch versorgt. Als ab 1348 die Pest den heutigen Bezirk Voitsberg befiel, wurden die Dörfer Hardekk und Mukkaw bei Muggauberg sowie das bei Södingberg gelegene Reuner Dorf Sedinge vollständig entvölkert. Als um 1480 die Krankheit erneut die Weststeiermark heimsuchte und die Bevölkerung stark dezimierte, schworen 135 der überlebenden Bauern der Umgebung, für die Errichtung eines zu Ehren des sogenannten Pestheiligen Sebastian geweihten Gotteshauses während ihres Lebens den Wert einer Kuh zu spenden.[4] Diese Spende wird als Kühzins bezeichnet und die Bauern spendeten jedes Jahr, bis der Gegenwert einer Kuh entrichtet worden war. Falls das Spendenziel nicht zu Lebzeiten erreicht worden war, wurde es vererbt, und die Nachkommen waren verpflichtet, es zu erfüllen. Das so zusammengebrachte Geld reichte aus, um bei Kleinsöding eine größere Kirche zu errichten.[5][6][7] Vor dem Neubau der Kirche soll an deren späterem Standort eine romanische Jagdkapelle der Schlossherren von Söding gestanden haben. Diese musste dem Neubau weichen. Die Kirche wurde laut dem Geistlichen Personalstand der Diözese Seckau im Jahr 1508 erbaut, wozu Sebastian von Rollau den Auftrag gegeben habe. Wahrscheinlich bezieht sich diese Annahme aber nur auf den Bau des Chores, der bis zur Fertigstellung der Kirche als Kapelle genutzt wurde. In dieser Kapelle befand sich bereits eine aus Sandstein gefertigte Statue des heiligen Sebastian. Sie soll von Mönchen, die aus dem spanischen San Sebastian vertrieben worden und zum Riedlhof oder Riederhof bei Berndorf gekommen waren, aufgestellt worden sein. In den nachfolgenden Jahren stieg die Zahl der Wallfahrer stetig an. Mit dem so eingebrachten Geld konnten bis 1562 das an den Chor angebaute Kirchenschiff mit flacher Holzdecke und bis 1564 der Bau des Kirchturms finanziert werden. Auf die Errichtung des Kirchenschiffs weist unter anderem ein mit Jahreszahl und Zeichen des Baumeisters versehener Stein am Torbogen des Turmportales hin. Zu den Stiftern der Kirche dürften auch die auf Schloss Rollau ansässigen Rollauer gehört haben, da die Kirche als ihre Grablege diente.[5][6][8]\"\"\"\n",
    "message = message.upper()\n",
    "message =re.sub(\"ß\", \"SS\", message)\n",
    "message = re.sub(\"Ä\", \"AE\", message)\n",
    "message = re.sub(\"Ö\", \"OE\", message)\n",
    "message = re.sub(\"Ü\", \"UE\", message)\n",
    "message = re.sub(\"[^A-Z]\",\"\", message)\n",
    "\n",
    "encryptedMessage = caesarEncrypt_2(message, key)\n",
    "\n",
    "print(häufigkeit(encryptedMessage))"
   ]
  },
  {
   "cell_type": "markdown",
   "metadata": {},
   "source": [
    "Brute Force"
   ]
  },
  {
   "cell_type": "code",
   "execution_count": 18,
   "metadata": {},
   "outputs": [
    {
     "name": "stdout",
     "output_type": "stream",
     "text": [
      "JXWHQCWDJ Geheimtext\n",
      "IWVGPBVCI Key: 1\n",
      "HVUFOAUBH Key: 2\n",
      "GUTEN TAG Key: 3\n",
      "FTSDMZS F Key: 4\n",
      "ESRCLYRZE Key: 5\n",
      "DRQBKXQYD Key: 6\n",
      "CQPAJWPXC Key: 7\n",
      "BPO IVOWB Key: 8\n",
      "AONZHUNVA Key: 9\n",
      " NMYGTMU  Key: 10\n",
      "ZMLXFSLTZ Key: 11\n",
      "YLKWERKSY Key: 12\n",
      "XKJVDQJRX Key: 13\n",
      "WJIUCPIQW Key: 14\n",
      "VIHTBOHPV Key: 15\n",
      "UHGSANGOU Key: 16\n",
      "TGFR MFNT Key: 17\n",
      "SFEQZLEMS Key: 18\n",
      "REDPYKDLR Key: 19\n",
      "QDCOXJCKQ Key: 20\n",
      "PCBNWIBJP Key: 21\n",
      "OBAMVHAIO Key: 22\n",
      "NA LUG HN Key: 23\n",
      "M ZKTFZGM Key: 24\n",
      "LZYJSEYFL Key: 25\n",
      "KYXIRDXEK Key: 26\n",
      "JXWHQCWDJ Key: 27\n"
     ]
    }
   ],
   "source": [
    "def caesarDecrypt_bruteForce(message):\n",
    "    for key in range(1, 28):\n",
    "        dcMsg = \"\"\n",
    "        for s in message:  \n",
    "            if s in LETTERS:  \n",
    "                n = LETTERS.find(s)  \n",
    "                n = n - key\n",
    "                dcMsg = dcMsg + LETTERS[n]\n",
    "        print(f\"{dcMsg} Key: {key}\")\n",
    "\n",
    "message = \"GUTEN TAG\"\n",
    "key = 3\n",
    "\n",
    "encryptedMessage = caesarEncrypt(message, key)\n",
    "\n",
    "print(f\"{encryptedMessage} Geheimtext\")\n",
    "\n",
    "caesarDecrypt_bruteForce(encryptedMessage)\n"
   ]
  },
  {
   "cell_type": "markdown",
   "metadata": {},
   "source": [
    "Encryption mithilfe von Zahlen im Hexadezimalen System (FIXME)"
   ]
  },
  {
   "cell_type": "code",
   "execution_count": 9,
   "metadata": {},
   "outputs": [
    {
     "name": "stdout",
     "output_type": "stream",
     "text": [
      "477574656E20546167 18\n",
      "699796878042768389 18\n"
     ]
    }
   ],
   "source": [
    "import base64\n",
    "message = \"Guten Tag\"\n",
    "number = base64.b16encode(message.encode()).decode()\n",
    "print(number, len(number))\n",
    "ziffern = [\"0\", \"1\", \"2\", \"3\", \"4\", \"5\", \"6\", \"7\", \"8\", \"9\", \"A\", \"B\", \"C\", \"D\", \"E\", \"F\"] \n",
    "key = 2\n",
    "\n",
    "\n",
    "def caesarEncrypt2(number, key):\n",
    "    encNb = \"\"\n",
    "    for s in number:  \n",
    "        if s in ziffern:  \n",
    "            n = ziffern.index(s)  \n",
    "            n = n + key\n",
    "            if n > 15:  \n",
    "                n = n - 16\n",
    "            encNb = encNb + ziffern[n]\n",
    "    return encNb\n",
    "\n",
    "encryptedNumber = caesarEncrypt2(number = number, key = key)\n",
    "print(encryptedNumber, len(encryptedNumber))"
   ]
  },
  {
   "cell_type": "markdown",
   "metadata": {},
   "source": [
    "Decoder:"
   ]
  },
  {
   "cell_type": "code",
   "execution_count": 10,
   "metadata": {},
   "outputs": [
    {
     "name": "stdout",
     "output_type": "stream",
     "text": [
      "477574656E20546167 18\n",
      "Guten Tag\n"
     ]
    }
   ],
   "source": [
    "def caesarDencrypt2(enc, key):\n",
    "    decrNb = \"\"\n",
    "    for s in enc:\n",
    "        if s in ziffern:  \n",
    "            n = ziffern.index(s) \n",
    "            n = n - key\n",
    "            decrNb = decrNb + ziffern[n]\n",
    "    return decrNb\n",
    "\n",
    "decryptedNumber = caesarDencrypt2(enc = encryptedNumber, key = key)\n",
    "print(decryptedNumber, len(decryptedNumber))\n",
    "zText = base64.b16decode(decryptedNumber)\n",
    "message = str(zText, encoding=\"utf-8\")\n",
    "print(message)"
   ]
  },
  {
   "cell_type": "markdown",
   "metadata": {},
   "source": [
    "# Caesar Textanalyse"
   ]
  },
  {
   "cell_type": "code",
   "execution_count": 4,
   "metadata": {},
   "outputs": [
    {
     "name": "stdout",
     "output_type": "stream",
     "text": [
      "[('l', 2), ('H', 1), ('a', 1), ('o', 1)]\n"
     ]
    }
   ],
   "source": [
    "from collections import Counter\n",
    "text = \"\"\"Hallo\"\"\"\n",
    "t = Counter(text)\n",
    "\n",
    "print(t.most_common(5))"
   ]
  },
  {
   "cell_type": "markdown",
   "metadata": {},
   "source": [
    "# Vigenère-Chiffre"
   ]
  },
  {
   "cell_type": "markdown",
   "metadata": {},
   "source": [
    "Encription"
   ]
  },
  {
   "cell_type": "code",
   "execution_count": 1,
   "metadata": {},
   "outputs": [
    {
     "name": "stdout",
     "output_type": "stream",
     "text": [
      "Klartext:      GUTEN TAG\n",
      "Schlüsselwort: BANANE\n",
      "Geheimtext:    HUFE DUAT\n"
     ]
    }
   ],
   "source": [
    "message = \"GUTEN TAG\"\n",
    "LETTERS = 'ABCDEFGHIJKLMNOPQRSTUVWXYZ '  \n",
    "keyword = \"BANANE\"\n",
    "\n",
    "\n",
    "def vigenèreEncrypt(message, keyword):\n",
    "    encMsg = \"\"\n",
    "    key = []\n",
    "    counter = 0\n",
    "    for s in keyword:  \n",
    "        if s in LETTERS:  \n",
    "            key.append(LETTERS.find(s))\n",
    "    for i in message:\n",
    "        if counter == len(key):\n",
    "            counter = 0\n",
    "        n = LETTERS.find(i)\n",
    "        n = n + key[counter]\n",
    "        counter += 1\n",
    "        if n > 26:  \n",
    "            n = n - 27\n",
    "        encMsg = encMsg + LETTERS[n]\n",
    "    return encMsg\n",
    "\n",
    "encryptedMessage = vigenèreEncrypt(message = message, keyword = keyword)\n",
    "print(f\"Klartext:      {message}\")\n",
    "print(f\"Schlüsselwort: {keyword}\")\n",
    "print(f\"Geheimtext:    {encryptedMessage}\")"
   ]
  },
  {
   "cell_type": "markdown",
   "metadata": {},
   "source": [
    "Decryption"
   ]
  },
  {
   "cell_type": "code",
   "execution_count": 21,
   "metadata": {},
   "outputs": [
    {
     "name": "stdout",
     "output_type": "stream",
     "text": [
      "GUTENTAG\n"
     ]
    }
   ],
   "source": [
    "def vigenèreDecrypt(encMsg, keyword):\n",
    "    dcMsg = \"\"\n",
    "    key = []\n",
    "    counter = 0\n",
    "    for s in keyword:  \n",
    "        if s in LETTERS:  \n",
    "            key.append(LETTERS.find(s))\n",
    "    for i in encMsg:\n",
    "        if counter == len(key):\n",
    "            counter = 0\n",
    "        n = LETTERS.find(i)\n",
    "        n = n - key[counter]\n",
    "        counter += 1\n",
    "        dcMsg = dcMsg + LETTERS[n]\n",
    "    return dcMsg\n",
    "\n",
    "decryptedMessage = vigenèreDecrypt(encMsg = encryptedMessage, keyword = keyword)\n",
    "print(decryptedMessage)"
   ]
  },
  {
   "cell_type": "markdown",
   "metadata": {},
   "source": [
    "Häufigkeitsanalyse (Known Keylength)"
   ]
  },
  {
   "cell_type": "code",
   "execution_count": 22,
   "metadata": {},
   "outputs": [
    {
     "name": "stdout",
     "output_type": "stream",
     "text": [
      "BNQEDWUEYLRHFRUEGXJGRNXMSCUEOIGA DEMDHHEDQVTYIPLCEDEVXTI DRVBNFIXIFI KGPUHGETIMU DRWHIOTQMFLRGRREEHO IJNRMQSSTVGRRIEVDRRUEZPRPTPNEFISSALYIOPRSFSQFRRNYGDVEEINHGETIMBRGDECE WAVEE SRMOEEGVFUZIADEVSEATIOVANNRXOUNRVODVEGICEDFGREEHO OOOPHRRCEDIPLUE AOISEEKAROTRNOMTHRRXIJNRADGIAROYSHIECUIOBRLRKFFGEDIJNRNFINPRLAHFRRI TFSFGDECEDBDEDHFWRVEE DVICEIOURFRQEDKFGRNQZPNXLRMOSAEQMOGIUDHFNEPNIUEETRRTAODRQKAURUYODRRFZPNQEDISSFMNPTUDKGRELVCUISWNEURUE PSESRRMASTKVRPLFNNUEWFEYSAVHEDIEGIVRRESSGFAYWBBQIRTFSFDRRIEGTVKFNOELMSKHOVXTBRRTFFFVEY VRQE HJEQORVGEDHNVEEXKGREMGKXEXBRIZYHGNUOISGEOIMFDNSOIJSAEQMOGOEDKHEYETIOEDEGRFRQODJTEQI KFVALYWUARNQMHE THSFLXEDXBLEUZHJEXRNRLHRIFISNRUFHJEIEEXTTRIRVNADKUIJMEUPLUEGNQHJEOEHSFLXEDYOGETNVLDRZVQJEDTRWDHIODIODRRGICEDLRFFNQE FBURR HFRGMTICU GSYFRQIRISRVCUXVNTEVRFSLURLSE DRWTOTE EONFE TFSFHRMMITE WFBNSFMBNTEIIJHFE KPTFEELBUEEE BEURRREIURRWMEOE WEE WRVUEVNRVLUUZGWQE DRREIRSRWQE DR JRQAYWLURHLMOSOELIJCUNRXVNQDVICAGEDRTPRNQIUE JRHFSWAUVCIEDRVHETE  FRFEVRFRXUUIOTDIPLUEFWAVEE WNVGAYLEHBSEPRREE ZVIMNVCUX UYEOCFIFE ISRRIPLUWARQIOWNRIYSDREEZFRRROXVNQDVIOAPHXSNMRNIESE VRVQFYIPLUEFEECVEDFGIMLRNQETSAZGWBMZE KFBDAPLUETEYHSEVCUXFAGSGQCEVKYIJNEORHJNTEVRFGDORWTEDEXMSCUELYFRDIPLUE VAVEEZNRYCAGDRVLIDCUITOYLNREEDE WQARTRVFMETNREODTRMOEDOZEOIECUIKATDXEQEYLRHFRECUPPSEHRVSE VARTORDVRHGRSFEODRNUECE DVITEZUEWUEQEZRFUOAG FIPHRREIRKVVDHRWGVEEYAGXEEZGRMTTYIPLFNBEDWPNNLEXBNQDRVEIAELITEEEPOBUVMWEIRRROEVTIOLYTEOAEXJA VARSOYLNYEE AGJURNGTIHEOE LBBRWNLSSPHRMOLVCUFFZVEUXTIPHQMFSRA RBHZENFFR UDEVFQE FBUQEEGIODEEHFROIECVRSEDXJGETRPMU GQISKVRPLFAYSXEQEYLRKFNGTLXXUDDRMODVEEISKNPRPMEOESEODEIPLCEDEVXTEVNREVSEA HTTRI KFFRRFMHTRSFEUURDRWIEVLVKFNEEOETTVA WJEEOYPWO MAIOCUE HJENUEHFMEPNRJSPHRRTA SRFBSFINRWEDTDMFBRNISSDRNGREZGMDMFDYHAJPDRRDMFDRRUSGBRIOISNQODJHEXOZQFNIADIOAGFTITTRLYXXODDRRTEVNVREE NNGIFALTIODRNWEIRRNEXJETDVI AULQISWNLYJBHDEDWUEFITEOMVTQINSAEVRHEORNGITRNTIMDXO RUE BVWEAEA HFNPHAVBNTEOEVTRKVVDHRNEGIISFZMUFYAPLFRUOYCEEPKRYODOIEHFROAGHFSXIDGITGRZWGI A CJEDTIISDRNNYGDVERVSIPHFYOGQEEOJRPHRRTCUISJTWRIEXVNFEDEODRRRQFI MVXKAURRW AULGREZRIPLFNQEEFBUZEVWUEDSHISSRHRRFRETRMOAZTAVCOTE HFSFUDQQODTNPFSUI CVDRNEXJFFEDREEDKVVDHRDGISFFE EVCUDVIBUSSPLMOESDSMLNUNRTARSEMHE RAPMAGEDKFHAEDXIAOE HBDVEXMSCUENPTIURRKSAOLRKFDVE XF\n",
      "BANANE\n"
     ]
    },
    {
     "data": {
      "text/plain": [
       "'ANDERSTELLEDERHEUTIGENKIRCHEBEFANDSICHVERMUTLICHBEREITSINDERANTIKEEINKULTHUEGELUNDESGIBTDIELEGENDEVONEINEMDORTIGENHEIDENTEMPELSPAETERSOLLENPESTOPFERAUFDIESEMHUEGELBEGRABENWORDENSEINESGIBTZWARAUSSAGENVONANWOHNERNDIEUEBERFUNDEVONKNOCHENBERICHTENABERESKONNTENBISHERKEINEARCHAEOLOGISCHENBELEGEFUEREINENTEMPELODEREINPESTGRABERBRACHTWERDENDIEBEWOHNERDERGEGENDVONKLEINSOEDINGWURDENSPAETESTENSABDEMJAHRHUNDERTVONDERERSTMALSURKUNDLICHERWAEHNTENPFARREMOOSKIRCHENAUSSEELSORGERISCHVERSORGTALSABDIEPESTDENHEUTIGENBEZIRKVOITSBERGBEFIELWURDENDIEDOERFERHARDEKKUNDMUKKAWBEIMUGGAUBERGSOWIEDASBEISOEDINGBERGGELEGENEREUNERDORFSEDINGEVOLLSTAENDIGENTVOELKERTALSUMDIEKRANKHEITERNEUTDIEWESTSTEIERMARKHEIMSUCHTEUNDDIEBEVOELKERUNGSTARKDEZIMIERTESCHWORENDERUEBERLEBENDENBAUERNDERUMGEBUNGFUERDIEERRICHTUNGEINESZUEHRENDESSOGENANNTENPESTHEILIGENSEBASTIANGEWEIHTENGOTTESHAUSESWAEHRENDIHRESLEBENSDENWERTEINERKUHZUSPENDENDIESESPENDEWIRDALSKUEHZINSBEZEICHNETUNDDIEBAUERNSPENDETENJEDESJAHRBISDERGEGENWERTEINERKUHENTRICHTETWORDENWARFALLSDASSPENDENZIELNICHTZULEBZEITENERREICHTWORDENWARWURDEESVERERBTUNDDIENACHKOMMENWARENVERPFLICHTETESZUERFUELLENDASSOZUSAMMENGEBRACHTEGELDREICHTEAUSUMBEIKLEINSOEDINGEINEGROESSEREKIRCHEZUERRICHTENVORDEMNEUBAUDERKIRCHESOLLANDERENSPAETEREMSTANDORTEINEROMANISCHEJAGDKAPELLEDERSCHLOSSHERRENVONSOEDINGGESTANDENHABENDIESEMUSSTEDEMNEUBAUWEICHENDIEKIRCHEWURDELAUTDEMGEISTLICHENPERSONALSTANDDERDIOEZESESECKAUIMJAHRERBAUTWOZUSEBASTIANVONROLLAUDENAUFTRAGGEGEBENHABEWAHRSCHEINLICHBEZIEHTSICHDIESEANNAHMEABERNURAUFDENBAUDESCHORESDERBISZURFERTIGSTELLUNGDERKIRCHEALSKAPELLEGENUTZTWURDEINDIESERKAPELLEBEFANDSICHBEREITSEINEAUSSANDSTEINGEFERTIGTESTATUEDESHEILIGENSEBASTIANSIESOLLVONMOENCHENDIEAUSDEMSPANISCHENSANSEBASTIANVERTRIEBENWORDENUNDZUMRIEDLHOFODERRIEDERHOFBEIBERNDORFGEKOMMENWARENAUFGESTELLTWORDENSEININDENNACHFOLGENDENJAHRENSTIEGDIEZAHLDERWALLFAHRERSTETIGANMITDEMSOEINGEBRACHTENGELDKONNTENBISDASANDENCHORANGEBAUTEKIRCHENSCHIFFMITFLACHERHOLZDECKEUNDBISDERBAUDESKIRCHTURMSFINANZIERTWERDENAUFDIEERRICHTUNGDESKIRCHENSCHIFFSWEISTUNTERANDEREMEINMITJAHRESZAHLUNDZEICHENDESBAUMEISTERSVERSEHENERSTEINAMTORBOGENDESTURMPORTALESHINZUDENSTIFTERNDERKIRCHEDUERFTENAUCHDIEAUFSCHLOSSROLLAUANSAESSIGENROLLAUERGEHOERTHABENDADIEKIRCHEALSIHREGRABLEGEDIENTE'"
      ]
     },
     "execution_count": 22,
     "metadata": {},
     "output_type": "execute_result"
    }
   ],
   "source": [
    "import re\n",
    "from collections import Counter\n",
    "\n",
    "LETTERS = 'ABCDEFGHIJKLMNOPQRSTUVWXYZ '\n",
    "\n",
    "def findKey_vigenère(enc, keyLength):\n",
    "    caesarCipher_list = []\n",
    "    keyword = \"\"\n",
    "    for i in range(keyLength):\n",
    "        string = \"\"\n",
    "        for c in range(i, len(enc), keyLength):\n",
    "            string += enc[c]\n",
    "        caesarCipher_list.append(string)\n",
    "    for string in caesarCipher_list:\n",
    "        t = Counter(string)\n",
    "        x = t.most_common(1)[0][0]\n",
    "        n = LETTERS.find(x) - LETTERS.find(\"E\")\n",
    "        letter = LETTERS[n]\n",
    "        keyword += letter\n",
    "    return keyword\n",
    "\n",
    "\n",
    "message = \"\"\"An der Stelle der heutigen Kirche befand sich vermutlich bereits in der Antike ein Kulthügel, und es gibt die Legende von einem dortigen Heidentempel. Später sollen Pestopfer auf diesem Hügel begraben worden sein. Es gibt zwar Aussagen von Anwohnern, die über Funde von Knochen berichten, aber es konnten bisher keine archäologischen Belege für einen Tempel oder ein Pestgrab erbracht werden. Die Bewohner der Gegend von Kleinsöding wurden spätestens ab dem 12. Jahrhundert von der 1136 erstmals urkundlich erwähnten Pfarre Mooskirchen aus seelsorgerisch versorgt. Als ab 1348 die Pest den heutigen Bezirk Voitsberg befiel, wurden die Dörfer Hardekk und Mukkaw bei Muggauberg sowie das bei Södingberg gelegene Reuner Dorf Sedinge vollständig entvölkert. Als um 1480 die Krankheit erneut die Weststeiermark heimsuchte und die Bevölkerung stark dezimierte, schworen 135 der überlebenden Bauern der Umgebung, für die Errichtung eines zu Ehren des sogenannten Pestheiligen Sebastian geweihten Gotteshauses während ihres Lebens den Wert einer Kuh zu spenden.[4] Diese Spende wird als Kühzins bezeichnet und die Bauern spendeten jedes Jahr, bis der Gegenwert einer Kuh entrichtet worden war. Falls das Spendenziel nicht zu Lebzeiten erreicht worden war, wurde es vererbt, und die Nachkommen waren verpflichtet, es zu erfüllen. Das so zusammengebrachte Geld reichte aus, um bei Kleinsöding eine größere Kirche zu errichten.[5][6][7] Vor dem Neubau der Kirche soll an deren späterem Standort eine romanische Jagdkapelle der Schlossherren von Söding gestanden haben. Diese musste dem Neubau weichen. Die Kirche wurde laut dem Geistlichen Personalstand der Diözese Seckau im Jahr 1508 erbaut, wozu Sebastian von Rollau den Auftrag gegeben habe. Wahrscheinlich bezieht sich diese Annahme aber nur auf den Bau des Chores, der bis zur Fertigstellung der Kirche als Kapelle genutzt wurde. In dieser Kapelle befand sich bereits eine aus Sandstein gefertigte Statue des heiligen Sebastian. Sie soll von Mönchen, die aus dem spanischen San Sebastian vertrieben worden und zum Riedlhof oder Riederhof bei Berndorf gekommen waren, aufgestellt worden sein. In den nachfolgenden Jahren stieg die Zahl der Wallfahrer stetig an. Mit dem so eingebrachten Geld konnten bis 1562 das an den Chor angebaute Kirchenschiff mit flacher Holzdecke und bis 1564 der Bau des Kirchturms finanziert werden. Auf die Errichtung des Kirchenschiffs weist unter anderem ein mit Jahreszahl und Zeichen des Baumeisters versehener Stein am Torbogen des Turmportales hin. Zu den Stiftern der Kirche dürften auch die auf Schloss Rollau ansässigen Rollauer gehört haben, da die Kirche als ihre Grablege diente.[5][6][8]\"\"\"\n",
    "message = message.upper()\n",
    "message = re.sub(\"ß\", \"SS\", message)\n",
    "message = re.sub(\"Ä\", \"AE\", message)\n",
    "message = re.sub(\"Ö\", \"OE\", message)\n",
    "message = re.sub(\"Ü\", \"UE\", message)\n",
    "message = re.sub(\"[^A-Z]\",\"\", message)\n",
    "\n",
    "\n",
    "encryptedMessage = vigenèreEncrypt(message = message, keyword = keyword)\n",
    "print(encryptedMessage)\n",
    "print(findKey_vigenère(encryptedMessage, len(keyword)))\n",
    "\n",
    "vigenèreDecrypt(encryptedMessage, keyword = findKey_vigenère(encryptedMessage, len(keyword)))\n"
   ]
  }
 ],
 "metadata": {
  "kernelspec": {
   "display_name": "Python 3.10.6 64-bit",
   "language": "python",
   "name": "python3"
  },
  "language_info": {
   "codemirror_mode": {
    "name": "ipython",
    "version": 3
   },
   "file_extension": ".py",
   "mimetype": "text/x-python",
   "name": "python",
   "nbconvert_exporter": "python",
   "pygments_lexer": "ipython3",
   "version": "3.10.7"
  },
  "orig_nbformat": 4,
  "vscode": {
   "interpreter": {
    "hash": "c1319b172803ae98a5e2c79756cc6d40ce95375dd6f96b2cc6481bc6dc5a29ce"
   }
  }
 },
 "nbformat": 4,
 "nbformat_minor": 2
}
