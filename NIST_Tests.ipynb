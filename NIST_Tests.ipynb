{
 "cells": [
  {
   "cell_type": "markdown",
   "metadata": {},
   "source": [
    "# LFSR"
   ]
  },
  {
   "cell_type": "code",
   "execution_count": 18,
   "metadata": {},
   "outputs": [
    {
     "name": "stdout",
     "output_type": "stream",
     "text": [
      "Number of Zeroes: 2097151\n",
      "Number of Ones: 2097152\n"
     ]
    },
    {
     "data": {
      "text/plain": [
       "'number = 0\\n\\nfor bit in stream:\\n    number = number << 1\\n    number = number | bit'"
      ]
     },
     "execution_count": 18,
     "metadata": {},
     "output_type": "execute_result"
    }
   ],
   "source": [
    "# State und maximale Periodenlänge\n",
    "state = 0b1000010010110001000011\n",
    "length = 4194303\n",
    "\n",
    "# Funktion des LFSRs\n",
    "def lfsr(length, state):\n",
    "    outputs = []\n",
    "    for i in range(length):\n",
    "        outputs.append(state & 1)\n",
    "        newbit = ((state ^ (state >> 1)) & 1)\n",
    "        state = (state >> 1) | (newbit << 21)\n",
    "    return outputs\n",
    "\n",
    "\n",
    "stream = lfsr(length, state)"
   ]
  },
  {
   "cell_type": "markdown",
   "metadata": {},
   "source": [
    "Alle der folgenden Tests stammen aus der NIST Statistical Test Suite for Random and Pseudorandom Number Generators for Cryptographic\n",
    "Applications"
   ]
  },
  {
   "cell_type": "markdown",
   "metadata": {},
   "source": [
    "# Frequency (Monobit) Test"
   ]
  },
  {
   "cell_type": "code",
   "execution_count": 7,
   "metadata": {},
   "outputs": [
    {
     "name": "stdout",
     "output_type": "stream",
     "text": [
      "sn: 1\n",
      "sObs: 0.0004882813082076713\n",
      "p-Wert: 0.9996104078983334\n",
      "Die Sequenz hat den 'Frequency (Monobit) Test' bestanden\n"
     ]
    }
   ],
   "source": [
    "import math\n",
    "\n",
    "def frequencyMonobit(stream, start, end):\n",
    "    sn = 0\n",
    "\n",
    "    for bit in stream[start:end]:\n",
    "        if bit == 1:\n",
    "            sn += 1\n",
    "        else:\n",
    "            sn -= 1\n",
    "\n",
    "    print(f\"sn: {sn}\")\n",
    "    sObs = math.sqrt(sn**2)/math.sqrt(len(stream))\n",
    "    print(f\"sObs: {sObs}\")\n",
    "    pValue = math.erfc(sObs/math.sqrt(2))\n",
    "    print(f\"p-Wert: {pValue}\")\n",
    "\n",
    "    if pValue >= 0.01:\n",
    "        print(\"Die Sequenz hat den 'Frequency (Monobit) Test' bestanden\")\n",
    "    else:\n",
    "        print(\"Die Sequenz hat den 'Frequency (Monobit) Test' bestanden\")\n",
    "\n",
    "frequencyMonobit(stream, 0, len(stream))"
   ]
  },
  {
   "cell_type": "markdown",
   "metadata": {},
   "source": [
    "# Frequency Test within a Block"
   ]
  },
  {
   "cell_type": "code",
   "execution_count": 8,
   "metadata": {},
   "outputs": [
    {
     "name": "stdout",
     "output_type": "stream",
     "text": [
      "p-Wert: 0.32148661901985415\n",
      "Die Sequenz hat den 'Frequency Test within a Block' bestanden\n"
     ]
    }
   ],
   "source": [
    "import scipy\n",
    "\n",
    "def frequencyBlock(stream, block_size):\n",
    "    n = len(stream) // block_size\n",
    "    start = 0\n",
    "    end = block_size\n",
    "    ps = 0.0\n",
    "    for i in range(n):\n",
    "        block = stream[start:end]\n",
    "        ones_count = 0\n",
    "        for bit in block:\n",
    "            if bit == 1:\n",
    "                ones_count += 1\n",
    "        pi = ones_count / block_size\n",
    "        ps += pow(pi - 0.5, 2.0)\n",
    "        start += block_size\n",
    "        end += block_size\n",
    "    chi_squared = 4.0 * block_size * ps\n",
    "    pValue = scipy.special.gammaincc(n / 2, chi_squared / 2)\n",
    "    print(f\"p-Wert: {pValue}\")\n",
    "    \n",
    "    if pValue >= 0.01:\n",
    "        print(\"Die Sequenz hat den 'Frequency Test within a Block' bestanden\")\n",
    "    else:\n",
    "        print(\"Die Sequenz hat den 'Frequency Test within a Block' nicht bestanden\")\n",
    "\n",
    "frequencyBlock(stream, 41944)\n"
   ]
  },
  {
   "cell_type": "markdown",
   "metadata": {},
   "source": [
    "# Runs Test"
   ]
  },
  {
   "cell_type": "code",
   "execution_count": 14,
   "metadata": {},
   "outputs": [
    {
     "name": "stdout",
     "output_type": "stream",
     "text": [
      "vnObs: 2097152\n",
      "p-Wert: 0.9996104078054475\n",
      "Die Sequenz hat den 'Runs Test' bestanden\n"
     ]
    }
   ],
   "source": [
    "import math\n",
    "\n",
    "def runsTest(stream):\n",
    "    number = 0\n",
    "    for bit in stream:\n",
    "        number += bit\n",
    "    pi = number / len(stream)\n",
    "    if (abs(pi - 1/2)) <= (2/math.sqrt(len(stream))):\n",
    "        vnObs = 0\n",
    "        for i in range(len(stream) - 1):\n",
    "            if not stream[i] == stream[i + 1]:\n",
    "                vnObs += 1\n",
    "        vnObs += 1\n",
    "        pValue = math.erfc((vnObs - (2*len(stream)*pi*(1 - pi)))/(2*math.sqrt(2*len(stream))*pi*(1 - pi)))\n",
    "        print(f\"vnObs: {vnObs}\")\n",
    "        print(f\"p-Wert: {pValue}\")\n",
    "        if pValue >= 0.01:\n",
    "            print(\"Die Sequenz hat den 'Runs Test' bestanden\")\n",
    "        else:\n",
    "            print(\"Die Sequenz hat den 'Runs Test' nicht bestanden\")\n",
    "\n",
    "    else:\n",
    "        print(\"Der Test wurde nicht durchgeführt\")\n",
    "\n",
    "runsTest(stream)"
   ]
  },
  {
   "cell_type": "markdown",
   "metadata": {},
   "source": [
    "# Test for the Longest Run of Ones in a Block (FIXME)"
   ]
  },
  {
   "cell_type": "code",
   "execution_count": 60,
   "metadata": {},
   "outputs": [
    {
     "name": "stdout",
     "output_type": "stream",
     "text": [
      "[3, 1, 2]\n",
      "3\n"
     ]
    }
   ],
   "source": [
    "\n",
    "def longestRuns(stream):\n",
    "    if len(stream) < 128:\n",
    "        print(\"Not enough Data\")\n",
    "    elif len(stream) < 6272:\n",
    "        m = 8\n",
    "        k = 3\n",
    "        n = 16\n",
    "    elif len(stream) < 750000:\n",
    "        m = 128\n",
    "        k = 5\n",
    "        n = 49\n",
    "    else:\n",
    "        m = 10**4\n",
    "        k = 6\n",
    "        n = 75\n",
    "\n",
    "    vi = []\n",
    "    anz = len(stream) // m\n",
    "    start = 0\n",
    "    end = m\n",
    "    run = 0\n",
    "    runs = []\n",
    "    for i in range(anz):\n",
    "        block = stream[start:end]\n",
    "        for c in range(m):\n",
    "            if block[c] == 1:\n",
    "                run += 1\n",
    "                one = True\n",
    "            elif block[c] == 0 and one == True:\n",
    "                one = False\n",
    "                runs.append(run)\n",
    "                run = 0\n",
    "        runs.append(run)\n",
    "        runs.sort()\n",
    "        vi.append(runs[-1])\n",
    "\n",
    "\n",
    "\n",
    "\n",
    "\n",
    "    "
   ]
  },
  {
   "cell_type": "markdown",
   "metadata": {},
   "source": [
    "# Binary Matrix Rank Test"
   ]
  },
  {
   "cell_type": "code",
   "execution_count": 19,
   "metadata": {},
   "outputs": [
    {
     "name": "stdout",
     "output_type": "stream",
     "text": [
      "p-Wert: 0.0\n",
      "Die Sequenz hat den 'Binary Matrix Rank Test' nicht bestanden\n"
     ]
    }
   ],
   "source": [
    "import numpy as np\n",
    "\n",
    "def BinaryMatrixTest(stream, q):\n",
    "    n = len(stream)//(q*q)\n",
    "    start = 0\n",
    "    end = q\n",
    "    colums_list = []\n",
    "    matrix = []\n",
    "    count_max_rank = 0\n",
    "    count_one_lower = 0\n",
    "    count_else = 0\n",
    "    for matrices in range(n):\n",
    "        for row in range(0, q):\n",
    "            for c in range(start, end):\n",
    "                colums_list.append(stream[c])\n",
    "            matrix.append(colums_list)\n",
    "            colums_list = []\n",
    "            start += q\n",
    "            end += q\n",
    "        matrix = np.matrix(matrix)\n",
    "        rank = np.linalg.matrix_rank(matrix)\n",
    "        if rank == q:\n",
    "            count_max_rank = 1\n",
    "        elif (rank + 1) == q:\n",
    "            count_one_lower += 1\n",
    "        matrix = []\n",
    "    count_else = n - count_max_rank - count_one_lower\n",
    "    chi_squared = (((count_max_rank - (0.2888*n))**2)/(0.2888*n)) + (((count_one_lower - (0.5776*n))**2)/(0.5776*n)) + (((count_else - (0.1336*n))**2)/(0.1336*n))\n",
    "    pValue = math.e**((-1*chi_squared)/2)\n",
    "    print(f\"p-Wert: {pValue}\")\n",
    "    if pValue >= 0.01:\n",
    "        print(\"Die Sequenz hat den 'Binary Matrix Rank Test' bestanden\")\n",
    "    else:\n",
    "        print(\"Die Sequenz hat den 'Binary Matrix Rank Test' nicht bestanden\")\n",
    "    \n",
    "BinaryMatrixTest(stream, 32)"
   ]
  },
  {
   "cell_type": "markdown",
   "metadata": {},
   "source": [
    "# Vergleich mit Coinflip"
   ]
  },
  {
   "cell_type": "code",
   "execution_count": 27,
   "metadata": {},
   "outputs": [
    {
     "name": "stdout",
     "output_type": "stream",
     "text": [
      "-------------------------------------------------------------------------------------------------------------------------------------------------------------------------------------------------\n",
      "COINFLIP SEQUENCE:\n",
      "-------------------------------------------------------------------------------------------------------------------------------------------------------------------------------------------------\n",
      "Runs of ones: [1, 1, 6, 3, 2, 1, 1, 1, 2, 1, 1, 1, 1, 1, 1, 3, 3, 1, 2, 2, 1, 1, 2, 1, 1, 1, 1, 3, 1, 1, 3, 1, 4, 1, 3, 2, 4, 1, 2, 2, 6, 4, 3, 2, 2, 2, 4, 1, 1]\n",
      "Runs of zeroes: [1, 1, 4, 1, 1, 1, 2, 2, 2, 1, 2, 2, 8, 2, 2, 1, 2, 3, 2, 1, 6, 1, 2, 1, 5, 1, 3, 2, 2, 3, 2, 1, 5, 1, 2, 3, 1, 1, 2, 3, 2, 1, 2, 3, 1, 2, 1, 1, 2, 1]\n",
      "#Bits: 200\n",
      "#Ones: 96\n",
      "#Zeroes: 104\n",
      "Runs of ones (sorted by length): [1, 1, 1, 1, 1, 1, 1, 1, 1, 1, 1, 1, 1, 1, 1, 1, 1, 1, 1, 1, 1, 1, 1, 1, 1, 2, 2, 2, 2, 2, 2, 2, 2, 2, 2, 2, 3, 3, 3, 3, 3, 3, 3, 4, 4, 4, 4, 6, 6]\n",
      "Runs of zeroes (sorted by length): [1, 1, 1, 1, 1, 1, 1, 1, 1, 1, 1, 1, 1, 1, 1, 1, 1, 1, 1, 1, 2, 2, 2, 2, 2, 2, 2, 2, 2, 2, 2, 2, 2, 2, 2, 2, 2, 2, 2, 3, 3, 3, 3, 3, 3, 4, 5, 5, 6, 8]\n",
      "Counter({1: 25, 2: 11, 3: 7, 4: 4, 6: 2})\n",
      "Counter({1: 20, 2: 19, 3: 6, 5: 2, 4: 1, 6: 1, 8: 1})\n",
      "-------------------------------------------------------------------------------------------------------------------------------------------------------------------------------------------------\n",
      "LFSR SEQUENCE 1:\n",
      "-------------------------------------------------------------------------------------------------------------------------------------------------------------------------------------------------\n",
      "Runs of ones: [2, 1, 2, 1, 1, 1, 1, 2, 1, 3, 2, 4, 1, 1, 3, 2, 1, 1, 1, 5, 1, 1, 3, 2, 3, 1, 5, 2, 1, 1, 1, 3, 1, 1, 5, 2, 1, 1, 5, 2, 1, 2, 2, 1, 1, 1, 4, 2, 1, 2, 2, 3]\n",
      "Runs of zeroes: [4, 3, 1, 2, 4, 1, 3, 2, 1, 1, 3, 2, 1, 1, 2, 1, 2, 3, 1, 2, 1, 1, 1, 2, 4, 1, 2, 1, 1, 2, 3, 4, 1, 1, 1, 2, 2, 3, 4, 1, 1, 1, 2, 4, 3, 1, 1, 1, 1, 3, 2, 2]\n",
      "#Bits: 200\n",
      "#Ones: 100\n",
      "#Zeroes: 100\n",
      "Runs of ones (sorted by length): [1, 1, 1, 1, 1, 1, 1, 1, 1, 1, 1, 1, 1, 1, 1, 1, 1, 1, 1, 1, 1, 1, 1, 1, 1, 1, 2, 2, 2, 2, 2, 2, 2, 2, 2, 2, 2, 2, 2, 2, 3, 3, 3, 3, 3, 3, 4, 4, 5, 5, 5, 5]\n",
      "Runs of zeroes (sorted by length): [1, 1, 1, 1, 1, 1, 1, 1, 1, 1, 1, 1, 1, 1, 1, 1, 1, 1, 1, 1, 1, 1, 1, 1, 2, 2, 2, 2, 2, 2, 2, 2, 2, 2, 2, 2, 2, 2, 3, 3, 3, 3, 3, 3, 3, 3, 4, 4, 4, 4, 4, 4]\n",
      "Counter({1: 26, 2: 14, 3: 6, 5: 4, 4: 2})\n",
      "Counter({1: 24, 2: 14, 3: 8, 4: 6})\n",
      "-------------------------------------------------------------------------------------------------------------------------------------------------------------------------------------------------\n",
      "LFSR SEQUENCE 2:\n",
      "-------------------------------------------------------------------------------------------------------------------------------------------------------------------------------------------------\n",
      "Runs of ones: [2, 1, 1, 3, 1, 1, 1, 2, 1, 6, 8, 3, 1, 1, 1, 2, 3, 4, 1, 1, 1, 1, 1, 1, 6, 2, 2, 2, 1, 2, 1, 1, 1, 1, 1, 2, 1, 11, 1, 1, 3, 1, 4, 1, 1]\n",
      "Runs of zeroes: [1, 1, 1, 1, 1, 1, 1, 1, 2, 2, 1, 1, 5, 1, 7, 2, 4, 6, 1, 1, 2, 3, 3, 5, 1, 2, 2, 4, 5, 1, 1, 1, 1, 1, 3, 4, 1, 2, 1, 3, 10, 1, 2, 2, 4]\n",
      "#Bits: 200\n",
      "#Ones: 94\n",
      "#Zeroes: 106\n",
      "Runs of ones (sorted by length): [1, 1, 1, 1, 1, 1, 1, 1, 1, 1, 1, 1, 1, 1, 1, 1, 1, 1, 1, 1, 1, 1, 1, 1, 1, 1, 1, 2, 2, 2, 2, 2, 2, 2, 2, 3, 3, 3, 3, 4, 4, 6, 6, 8, 11]\n",
      "Runs of zeroes (sorted by length): [1, 1, 1, 1, 1, 1, 1, 1, 1, 1, 1, 1, 1, 1, 1, 1, 1, 1, 1, 1, 1, 1, 2, 2, 2, 2, 2, 2, 2, 2, 2, 3, 3, 3, 3, 4, 4, 4, 4, 5, 5, 5, 6, 7, 10]\n",
      "Counter({1: 27, 2: 8, 3: 4, 4: 2, 6: 2, 8: 1, 11: 1})\n",
      "Counter({1: 22, 2: 9, 3: 4, 4: 4, 5: 3, 6: 1, 7: 1, 10: 1})\n",
      "-------------------------------------------------------------------------------------------------------------------------------------------------------------------------------------------------\n",
      "LFSR SEQUENCE 3:\n",
      "-------------------------------------------------------------------------------------------------------------------------------------------------------------------------------------------------\n",
      "Runs of ones: [1, 1, 6, 1, 4, 2, 1, 1, 3, 1, 1, 3, 2, 1, 1, 5, 1, 1, 1, 2, 2, 1, 1, 2, 5, 2, 3, 3, 1, 1, 2, 2, 1, 1, 5, 1, 2, 1, 2, 2, 1, 1, 3, 4, 2, 3, 2, 1, 2, 2, 2]\n",
      "Runs of zeroes: [1, 3, 2, 4, 1, 2, 1, 5, 3, 3, 1, 1, 4, 2, 2, 2, 2, 3, 1, 1, 1, 1, 4, 1, 2, 1, 1, 3, 1, 1, 4, 1, 2, 2, 2, 3, 1, 1, 1, 1, 1, 4, 2, 1, 1, 1, 3, 1, 2, 3, 1]\n",
      "#Bits: 200\n",
      "#Ones: 102\n",
      "#Zeroes: 98\n",
      "Runs of ones (sorted by length): [1, 1, 1, 1, 1, 1, 1, 1, 1, 1, 1, 1, 1, 1, 1, 1, 1, 1, 1, 1, 1, 1, 1, 2, 2, 2, 2, 2, 2, 2, 2, 2, 2, 2, 2, 2, 2, 2, 2, 3, 3, 3, 3, 3, 3, 4, 4, 5, 5, 5, 6]\n",
      "Runs of zeroes (sorted by length): [1, 1, 1, 1, 1, 1, 1, 1, 1, 1, 1, 1, 1, 1, 1, 1, 1, 1, 1, 1, 1, 1, 1, 1, 1, 2, 2, 2, 2, 2, 2, 2, 2, 2, 2, 2, 2, 3, 3, 3, 3, 3, 3, 3, 3, 4, 4, 4, 4, 4, 5]\n",
      "Counter({1: 23, 2: 16, 3: 6, 5: 3, 4: 2, 6: 1})\n",
      "Counter({1: 25, 2: 12, 3: 8, 4: 5, 5: 1})\n",
      "-------------------------------------------------------------------------------------------------------------------------------------------------------------------------------------------------\n"
     ]
    }
   ],
   "source": [
    "import collections, numpy\n",
    "\n",
    "coinflip_sequence = [0, 1, 0, 1, 0, 0, 0, 0, 1, 1, 1, 1, 1, 1, 0, 1, 1, 1, 0, 1, 1, 0, 1, 0, 0, 1, 0, 0, 1, 0, 0, 1, 1, 0, 1, 0, 0, 1, 0, 0, 1, 0, 0, 0, 0, 0, 0, 0, 0, 1, 0, 0, 1, 0, 0, 1, 0, 1, 1, 1, 0, 0, 1, 1, 1, 0, 0, 0, 1, 0, 0, 1, 1, 0, 1, 1, 0, 0, 0, 0, 0, 0, 1, 0, 1, 0, 0, 1, 1, 0, 1, 0, 0, 0, 0, 0, 1, 0, 1, 0, 0, 0, 1, 0, 0, 1, 1, 1, 0, 0, 1, 0, 0, 0, 1, 0, 0, 1, 1, 1, 0, 1, 0, 0, 0, 0, 0, 1, 1, 1, 1, 0, 1, 0, 0, 1, 1, 1, 0, 0, 0, 1, 1, 0, 1, 1, 1, 1, 0, 1, 0, 0, 1, 1, 0, 0, 0, 1, 1, 0, 0, 1, 1, 1, 1, 1, 1, 0, 1, 1, 1, 1, 0, 0, 1, 1, 1, 0, 0, 0, 1, 1, 0, 1, 1, 0, 0, 1, 1, 0, 1, 1, 1, 1, 0, 1, 0, 0, 1, 0]\n",
    "\n",
    "def analyse_Sequence(sequence):\n",
    "    run_one = 0\n",
    "    run_zero = 0\n",
    "    runs_ones = []\n",
    "    runs_zeroes = []\n",
    "    counter_ones = 0\n",
    "    for c in range(len(sequence)):\n",
    "        if sequence[c] == 1:\n",
    "            if run_zero != 0:\n",
    "                runs_zeroes.append(run_zero)\n",
    "            run_zero = 0\n",
    "            run_one += 1\n",
    "            counter_ones += 1\n",
    "        elif sequence[c] == 0:\n",
    "            if run_one != 0:\n",
    "                runs_ones.append(run_one)\n",
    "            run_one = 0\n",
    "            run_zero += 1\n",
    "    if run_one != 0:\n",
    "        runs_ones.append(run_one)\n",
    "    if run_zero != 0:\n",
    "        runs_zeroes.append(run_zero)\n",
    "\n",
    "    print(f\"Runs of ones: {runs_ones}\")\n",
    "    print(f\"Runs of zeroes: {runs_zeroes}\")\n",
    "    print(f\"#Bits: {len(sequence)}\")\n",
    "    print(f\"#Ones: {counter_ones}\")\n",
    "    print(f\"#Zeroes: {len(sequence) - counter_ones}\")\n",
    "    runs_ones.sort()\n",
    "    runs_zeroes.sort()\n",
    "    print(f\"Runs of ones (sorted by length): {runs_ones}\")\n",
    "    print(f\"Runs of zeroes (sorted by length): {runs_zeroes}\")\n",
    "    counter = 0\n",
    "    a = numpy.array(runs_ones)\n",
    "    b = numpy.array(runs_zeroes)\n",
    "\n",
    "    number_of_runs_per_length_ones = collections.Counter(a)\n",
    "    number_of_runs_per_length_zeroes = collections.Counter(b)\n",
    "\n",
    "    print(number_of_runs_per_length_ones)\n",
    "    print(number_of_runs_per_length_zeroes)\n",
    "\n",
    "print(\"-------------------------------------------------------------------------------------------------------------------------------------------------------------------------------------------------\")\n",
    "print(\"COINFLIP SEQUENCE:\")\n",
    "print(\"-------------------------------------------------------------------------------------------------------------------------------------------------------------------------------------------------\")\n",
    "analyse_Sequence(coinflip_sequence)\n",
    "print(\"-------------------------------------------------------------------------------------------------------------------------------------------------------------------------------------------------\")\n",
    "\n",
    "state = 0b1000010010110001000011\n",
    "length = 200\n",
    "\n",
    "LFSR_sequence = lfsr(length, state)\n",
    "print(\"LFSR SEQUENCE 1:\")\n",
    "print(\"-------------------------------------------------------------------------------------------------------------------------------------------------------------------------------------------------\")\n",
    "analyse_Sequence(LFSR_sequence)\n",
    "print(\"-------------------------------------------------------------------------------------------------------------------------------------------------------------------------------------------------\")\n",
    "\n",
    "state = 0b1000010010110001000011\n",
    "length = 30000\n",
    "\n",
    "\n",
    "LFSR_sequence = lfsr(length, state)\n",
    "LFSR_sequence = LFSR_sequence[25000:25200]\n",
    "\n",
    "print(\"LFSR SEQUENCE 2:\")\n",
    "print(\"-------------------------------------------------------------------------------------------------------------------------------------------------------------------------------------------------\")\n",
    "analyse_Sequence(LFSR_sequence)\n",
    "print(\"-------------------------------------------------------------------------------------------------------------------------------------------------------------------------------------------------\")\n",
    "\n",
    "LFSR_sequence = lfsr(length, state)\n",
    "LFSR_sequence = LFSR_sequence[15000:15200]\n",
    "\n",
    "print(\"LFSR SEQUENCE 3:\")\n",
    "print(\"-------------------------------------------------------------------------------------------------------------------------------------------------------------------------------------------------\")\n",
    "analyse_Sequence(LFSR_sequence)\n",
    "print(\"-------------------------------------------------------------------------------------------------------------------------------------------------------------------------------------------------\")\n",
    "\n"
   ]
  }
 ],
 "metadata": {
  "kernelspec": {
   "display_name": "Python 3.10.6 64-bit",
   "language": "python",
   "name": "python3"
  },
  "language_info": {
   "codemirror_mode": {
    "name": "ipython",
    "version": 3
   },
   "file_extension": ".py",
   "mimetype": "text/x-python",
   "name": "python",
   "nbconvert_exporter": "python",
   "pygments_lexer": "ipython3",
   "version": "3.10.7"
  },
  "orig_nbformat": 4,
  "vscode": {
   "interpreter": {
    "hash": "c1319b172803ae98a5e2c79756cc6d40ce95375dd6f96b2cc6481bc6dc5a29ce"
   }
  }
 },
 "nbformat": 4,
 "nbformat_minor": 2
}
