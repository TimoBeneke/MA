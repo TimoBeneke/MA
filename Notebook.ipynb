{
 "cells": [
  {
   "cell_type": "markdown",
   "metadata": {},
   "source": [
    "# Caesar Cipher (FIXME)\n",
    "\n",
    "Mit Buchstaben aus Alphabet"
   ]
  },
  {
   "cell_type": "code",
   "execution_count": 1,
   "metadata": {},
   "outputs": [
    {
     "name": "stdout",
     "output_type": "stream",
     "text": [
      "DEFC\n"
     ]
    }
   ],
   "source": [
    "message = \"ABCZ\"\n",
    "LETTERS = 'ABCDEFGHIJKLMNOPQRSTUVWXYZ'  \n",
    "key = 3\n",
    "\n",
    "\n",
    "def encrypt(message, key):\n",
    "    encMsg = \"\"\n",
    "    for s in message:  \n",
    "        if s in LETTERS:  \n",
    "            n = LETTERS.find(s)  \n",
    "            n = n + key\n",
    "            if n > 26:  \n",
    "                n = n - 26\n",
    "            encMsg = encMsg + LETTERS[n]\n",
    "    return encMsg\n",
    "\n",
    "encryptedMessage = encrypt(message = message, key = key)\n",
    "print(encryptedMessage)"
   ]
  },
  {
   "cell_type": "markdown",
   "metadata": {},
   "source": [
    "Encryption mithilfe von Zahlen im Hexadezimalen System (FIXME)"
   ]
  },
  {
   "cell_type": "code",
   "execution_count": 19,
   "metadata": {},
   "outputs": [
    {
     "name": "stdout",
     "output_type": "stream",
     "text": [
      "710108107989258794910\n"
     ]
    }
   ],
   "source": [
    "import base64\n",
    "message = \"Guten Tag\"\n",
    "number = str(base64.b16encode(message.encode()))\n",
    "ziffern = [\"1\", \"2\", \"3\", \"4\", \"5\", \"6\", \"7\", \"8\", \"9\", \"10\", \"A\", \"B\", \"C\", \"D\", \"E\", \"F\"] \n",
    "key = 3\n",
    "\n",
    "\n",
    "def encrypt(number, key):\n",
    "    encNb = \"\"\n",
    "    for s in number:  \n",
    "        if s in ziffern:  \n",
    "            n = ziffern.index(s)  \n",
    "            n = n + key\n",
    "            if n > 16:  \n",
    "                n = n - 16\n",
    "            encNb = encNb + ziffern[n]\n",
    "    return encNb\n",
    "\n",
    "encryptedNumber = encrypt(number = number, key = key)\n",
    "print(encryptedNumber)"
   ]
  },
  {
   "cell_type": "markdown",
   "metadata": {},
   "source": [
    "Decoder:"
   ]
  },
  {
   "cell_type": "code",
   "execution_count": 21,
   "metadata": {},
   "outputs": [
    {
     "name": "stdout",
     "output_type": "stream",
     "text": [
      "4DD5D4656E254616D\n"
     ]
    },
    {
     "ename": "Error",
     "evalue": "Odd-length string",
     "output_type": "error",
     "traceback": [
      "\u001b[1;31m---------------------------------------------------------------------------\u001b[0m",
      "\u001b[1;31mError\u001b[0m                                     Traceback (most recent call last)",
      "\u001b[1;32mC:\\Users\\TIMOBE~1\\AppData\\Local\\Temp/ipykernel_25544/2407295337.py\u001b[0m in \u001b[0;36m<module>\u001b[1;34m\u001b[0m\n\u001b[0;32m     14\u001b[0m \u001b[0mdecryptedNumber\u001b[0m \u001b[1;33m=\u001b[0m \u001b[0mencrypt\u001b[0m\u001b[1;33m(\u001b[0m\u001b[0menc\u001b[0m \u001b[1;33m=\u001b[0m \u001b[0mencryptedNumber\u001b[0m\u001b[1;33m,\u001b[0m \u001b[0mkey\u001b[0m \u001b[1;33m=\u001b[0m \u001b[0mkey\u001b[0m\u001b[1;33m)\u001b[0m\u001b[1;33m\u001b[0m\u001b[1;33m\u001b[0m\u001b[0m\n\u001b[0;32m     15\u001b[0m \u001b[0mprint\u001b[0m\u001b[1;33m(\u001b[0m\u001b[0mdecryptedNumber\u001b[0m\u001b[1;33m)\u001b[0m\u001b[1;33m\u001b[0m\u001b[1;33m\u001b[0m\u001b[0m\n\u001b[1;32m---> 16\u001b[1;33m \u001b[0mzText\u001b[0m \u001b[1;33m=\u001b[0m \u001b[0mbase64\u001b[0m\u001b[1;33m.\u001b[0m\u001b[0mb16decode\u001b[0m\u001b[1;33m(\u001b[0m\u001b[0mdecryptedNumber\u001b[0m\u001b[1;33m)\u001b[0m\u001b[1;33m\u001b[0m\u001b[1;33m\u001b[0m\u001b[0m\n\u001b[0m\u001b[0;32m     17\u001b[0m \u001b[0mmessage\u001b[0m \u001b[1;33m=\u001b[0m \u001b[0mstr\u001b[0m\u001b[1;33m(\u001b[0m\u001b[0m_\u001b[0m\u001b[1;33m,\u001b[0m \u001b[0mencoding\u001b[0m\u001b[1;33m=\u001b[0m\u001b[1;34m\"utf-8\"\u001b[0m\u001b[1;33m)\u001b[0m\u001b[1;33m\u001b[0m\u001b[1;33m\u001b[0m\u001b[0m\n",
      "\u001b[1;32m~\\AppData\\Local\\Programs\\Python\\Python310\\lib\\base64.py\u001b[0m in \u001b[0;36mb16decode\u001b[1;34m(s, casefold)\u001b[0m\n\u001b[0;32m    290\u001b[0m     \u001b[1;32mif\u001b[0m \u001b[0mre\u001b[0m\u001b[1;33m.\u001b[0m\u001b[0msearch\u001b[0m\u001b[1;33m(\u001b[0m\u001b[1;34mb'[^0-9A-F]'\u001b[0m\u001b[1;33m,\u001b[0m \u001b[0ms\u001b[0m\u001b[1;33m)\u001b[0m\u001b[1;33m:\u001b[0m\u001b[1;33m\u001b[0m\u001b[1;33m\u001b[0m\u001b[0m\n\u001b[0;32m    291\u001b[0m         \u001b[1;32mraise\u001b[0m \u001b[0mbinascii\u001b[0m\u001b[1;33m.\u001b[0m\u001b[0mError\u001b[0m\u001b[1;33m(\u001b[0m\u001b[1;34m'Non-base16 digit found'\u001b[0m\u001b[1;33m)\u001b[0m\u001b[1;33m\u001b[0m\u001b[1;33m\u001b[0m\u001b[0m\n\u001b[1;32m--> 292\u001b[1;33m     \u001b[1;32mreturn\u001b[0m \u001b[0mbinascii\u001b[0m\u001b[1;33m.\u001b[0m\u001b[0munhexlify\u001b[0m\u001b[1;33m(\u001b[0m\u001b[0ms\u001b[0m\u001b[1;33m)\u001b[0m\u001b[1;33m\u001b[0m\u001b[1;33m\u001b[0m\u001b[0m\n\u001b[0m\u001b[0;32m    293\u001b[0m \u001b[1;33m\u001b[0m\u001b[0m\n\u001b[0;32m    294\u001b[0m \u001b[1;31m#\u001b[0m\u001b[1;33m\u001b[0m\u001b[1;33m\u001b[0m\u001b[0m\n",
      "\u001b[1;31mError\u001b[0m: Odd-length string"
     ]
    }
   ],
   "source": [
    "def encrypt(enc, key):\n",
    "    decrNb = \"\"\n",
    "    for s in enc:  \n",
    "        if s in ziffern:  \n",
    "            n = ziffern.index(s) \n",
    "            n = n - key\n",
    "            decrNb = decrNb + ziffern[n]\n",
    "    return decrNb\n",
    "\n",
    "decryptedNumber = encrypt(enc = encryptedNumber, key = key)\n",
    "print(decryptedNumber)\n",
    "zText = base64.b16decode(decryptedNumber)\n",
    "message = str(_, encoding=\"utf-8\")"
   ]
  }
 ],
 "metadata": {
  "interpreter": {
   "hash": "b666e01949c37a777d70ae47aa3e28ec38dfbb32e409c38bfa3243b849c3376c"
  },
  "kernelspec": {
   "display_name": "Python 3.10.0 64-bit",
   "language": "python",
   "name": "python3"
  },
  "language_info": {
   "codemirror_mode": {
    "name": "ipython",
    "version": 3
   },
   "file_extension": ".py",
   "mimetype": "text/x-python",
   "name": "python",
   "nbconvert_exporter": "python",
   "pygments_lexer": "ipython3",
   "version": "3.10.0"
  },
  "orig_nbformat": 4
 },
 "nbformat": 4,
 "nbformat_minor": 2
}
